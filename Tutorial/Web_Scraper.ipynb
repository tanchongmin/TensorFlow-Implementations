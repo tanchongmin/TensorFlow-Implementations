{
 "cells": [
  {
   "cell_type": "markdown",
   "id": "ec216685-5ec3-497c-9ef8-e1758ca30423",
   "metadata": {},
   "source": [
    "# Imports and API Keys here\n",
    "\n",
    "- Get your OpenAI API key at https://platform.openai.com/account/api-keys\n",
    "- Get your Custom JSON API key and cx at https://developers.google.com/custom-search/v1/introduction\n",
    "- Created by John Tan Chong Min and last modified on 18 Aug 2023\n",
    "\n",
    "## Components\n",
    "- Uses ChatGPT to do flexible processing\n",
    "- Uses StrictJSON framework (https://github.com/tanchongmin/strictjson) to constrain ChatGPT output to json\n",
    "- Uses Selenium to do web browsing, and Beautiful Soup to do HTML Extraction (does not work for PDF yet)\n",
    "\n",
    "## Steps\n",
    "- Finds list of primary sources from google search\n",
    "- Finds list of secondary sources from scraping the \"a href\" tag, and filters them using ChatGPT to `max_url_per_site` urls\n",
    "- Extracts out relevant information according to `output_format` for each site. Splits into chunks of `MAX_TOKENS` with overlap of 100 tokens. Max 4 chunks.\n",
    "- Uses ChatGPT to combine information from the same site\n",
    "- Uses ChatGPT to rank the relevance of the scraped sites\n",
    "- Outputs the scraped sites and their information in order of relevance into an Excel file"
   ]
  },
  {
   "cell_type": "code",
   "execution_count": 1,
   "id": "be2280c7-1d2c-4639-b4be-032313ec1b35",
   "metadata": {
    "tags": []
   },
   "outputs": [],
   "source": [
    "import os\n",
    "import requests\n",
    "import openai\n",
    "import tiktoken\n",
    "from langchain.text_splitter import TokenTextSplitter\n",
    "import json\n",
    "from bs4 import BeautifulSoup\n",
    "from urllib.parse import urlparse\n",
    "import pandas as pd\n",
    "import pprint\n",
    "import re\n",
    "from selenium import webdriver\n",
    "from selenium.webdriver.firefox.options import Options\n",
    "\n",
    "## Base hyperparameters here (No need to adjust)\n",
    "\n",
    "# No information default\n",
    "NO_INFO = \"No info\"\n",
    "\n",
    "# maximum token length for ChatGPT\n",
    "MAX_TOKENS = 3000\n",
    "\n",
    "# max timeout to wait for url opening\n",
    "timeout = 2\n",
    "\n",
    "#API Keys\n",
    "os.environ['OPENAI_API_TOKEN'] = 'OPENAI_API_KEY'\n",
    "openai.api_key = os.environ['OPENAI_API_TOKEN']\n",
    "api_key = 'CUSTOM_JSON_API_KEY'\n",
    "cx = 'GOOGLE_PROGRAMMABLE_SEARCH_ENGINE'"
   ]
  },
  {
   "cell_type": "markdown",
   "id": "b2686761-e344-4f90-9c10-6d30c1dfa37b",
   "metadata": {},
   "source": [
    "## Tune your search terms here\n",
    "- modify the query\n",
    "- modify the constraint of the type of websites you want\n",
    "- modify the output format you would want"
   ]
  },
  {
   "cell_type": "code",
   "execution_count": 3,
   "id": "8e6d40be-7c12-4a2d-922e-c5826f54e2ad",
   "metadata": {
    "tags": []
   },
   "outputs": [],
   "source": [
    "# Query format\n",
    "query = 'Large Language Model courses'\n",
    "\n",
    "# Keywords to be contained in secondary sites. \n",
    "# Will add url to list if any one matches. Secondary sites defined as links that are on the urls from Google Search\n",
    "keyword_list = ['course']\n",
    "\n",
    "# Unwanted url segments. Any url with these inside usually means proprietary sites, or irrelevant (job) sites\n",
    "unwanted_url = []\n",
    "\n",
    "# Number of secondary urls to extract each site. GPT will pick the most relevant ones\n",
    "max_url_per_site = 3\n",
    "\n",
    "# Number of google queries to search for. Increasing this increases the breadth of search, but you only have 100 searches a day\n",
    "num_google_queries = 1\n",
    "\n",
    "# Whether to take top 20 search results (default is 10)\n",
    "twenty = False\n",
    "\n",
    "# Output format. Key is the name of the spreadsheet header, Value is the description of what is to be there\n",
    "output_format = {\"Course Name\": \"Name of course\", \"Course Website\": \"Website of course\", \n",
    "                     \"Broad Course Description\": \"Description of course\",\n",
    "                     \"Cost\": \"Amount of Money for Course\",\n",
    "                     \"Time\": \"Expected amount of time\",\n",
    "                     \"Venue\": [\"Physical <location>\",\"Online <website url>\"],\n",
    "                     \"Company\": \"Company offering the course\"}\n",
    "\n",
    "# Base index. When doing the final table, what will be the reference to merge entries\n",
    "base_index = \"Course Website\""
   ]
  },
  {
   "cell_type": "markdown",
   "id": "f982a03c-1c6d-489e-904d-5042ddb38503",
   "metadata": {},
   "source": [
    "## Start a headless browser\n",
    "- This will be used for scraping all web pages"
   ]
  },
  {
   "cell_type": "code",
   "execution_count": 4,
   "id": "df44b5e1-161c-4af6-9376-cbc4028715b1",
   "metadata": {
    "tags": []
   },
   "outputs": [],
   "source": [
    "def start_driver():\n",
    "    try:\n",
    "        driver.quit()\n",
    "        del driver\n",
    "        print('Deleting existing driver')\n",
    "    except Exception as e:\n",
    "        print('No existing driver to delete')\n",
    "        \n",
    "    print('Initializing new driver')\n",
    "    options = Options()\n",
    "    options.add_argument(\"--headless\")\n",
    "    \n",
    "    # Set the User-Agent\n",
    "    options.add_argument(\"user-agent=Mozilla\")\n",
    "\n",
    "    # Set the option to accept all SSL certificates by default\n",
    "    options.add_argument('--ignore-certificate-errors')\n",
    "\n",
    "    # initialize a browser\n",
    "    driver = webdriver.Firefox(options=options)\n",
    "    print('Driver initialized:', driver)\n",
    "    return driver"
   ]
  },
  {
   "cell_type": "code",
   "execution_count": 5,
   "id": "4060932f-d932-44b6-8cad-eb4333804b18",
   "metadata": {
    "tags": []
   },
   "outputs": [
    {
     "name": "stdout",
     "output_type": "stream",
     "text": [
      "No existing driver to delete\n",
      "Initializing new driver\n",
      "Driver initialized: <selenium.webdriver.firefox.webdriver.WebDriver (session=\"1165dc65-87a6-44bf-9894-dd36aa217df3\")>\n"
     ]
    }
   ],
   "source": [
    "driver = start_driver()"
   ]
  },
  {
   "cell_type": "markdown",
   "id": "3aed3bc4-8c94-4fda-aeff-08bf6d75723e",
   "metadata": {
    "tags": []
   },
   "source": [
    "# Helper Functions"
   ]
  },
  {
   "cell_type": "code",
   "execution_count": 6,
   "id": "78815bbd-f602-45c0-bb63-bd4ee5cc5fbe",
   "metadata": {
    "tags": []
   },
   "outputs": [],
   "source": [
    "def strict_output(system_prompt, user_prompt, output_format, default_category = \"\", output_value_only = False,\n",
    "                  model = 'gpt-3.5-turbo', temperature = 0, num_tries = 2, verbose = False):\n",
    "    ''' Ensures that OpenAI will always adhere to the desired output json format. \n",
    "    Uses rule-based iterative feedback to ask GPT to self-correct.\n",
    "    Keeps trying up to num_tries it it does not. Returns empty json if unable to after num_tries iterations.\n",
    "    If output field is a list, will treat as a classification problem and output best classification category.\n",
    "    Text enclosed within < > will generated by GPT accordingly'''\n",
    "\n",
    "    # if the user input is in a list, we also process the output as a list of json\n",
    "    list_input = isinstance(user_prompt, list)\n",
    "    # if the output format contains dynamic elements of < or >, then add to the prompt to handle dynamic elements\n",
    "    dynamic_elements = '<' in str(output_format)\n",
    "    # if the output format contains list elements of [ or ], then we add to the prompt to handle lists\n",
    "    list_output = '[' in str(output_format)\n",
    "    \n",
    "    # start off with no error message\n",
    "    error_msg = ''\n",
    "    \n",
    "    for i in range(num_tries):\n",
    "        \n",
    "        output_format_prompt = f'''\\nYou are to output the following in json format: {output_format}. \n",
    "Do not put quotation marks or escape character \\ in the output fields.'''\n",
    "        \n",
    "        if list_output:\n",
    "            output_format_prompt += f'''\\nIf output field is a list, classify output into the best element of the list.'''\n",
    "        \n",
    "        # if output_format contains dynamic elements, process it accordingly\n",
    "        if dynamic_elements: \n",
    "            output_format_prompt += f'''\n",
    "Any text enclosed by < and > indicates you must generate content to replace it. Example input: Go to <location>, Example output: Go to the garden\n",
    "Any output key containing < and > indicates you must generate the key name to replace it. Example input: {{'<location>': 'description of location'}}, Example output: {{'school': 'a place for education'}}'''\n",
    "\n",
    "        # if input is in a list format, ask it to generate json in a list\n",
    "        if list_input:\n",
    "            output_format_prompt += '''\\nGenerate a list of json, one json for each input element.'''\n",
    "            \n",
    "        # Use OpenAI to get a response\n",
    "        response = openai.ChatCompletion.create(\n",
    "          temperature = temperature,\n",
    "          model=model,\n",
    "          messages=[\n",
    "            {\"role\": \"system\", \"content\": system_prompt + output_format_prompt + error_msg},\n",
    "            {\"role\": \"user\", \"content\": str(user_prompt)}\n",
    "          ]\n",
    "        )\n",
    "\n",
    "        res = response['choices'][0]['message']['content'].replace('\\'', '\"')\n",
    "        \n",
    "        # ensure that we don't replace away aprostophes in text \n",
    "        res = re.sub(r\"(\\w)\\\"(\\w)\", r\"\\1'\\2\", res)\n",
    "\n",
    "        if verbose:\n",
    "            print('System prompt:', system_prompt + output_format_prompt + error_msg)\n",
    "            print('\\nUser prompt:', str(user_prompt))\n",
    "            print('\\nGPT response:', res)\n",
    "        \n",
    "        # try-catch block to ensure output format is adhered to\n",
    "        try:\n",
    "            output = json.loads(res)\n",
    "            if isinstance(user_prompt, list):\n",
    "                if not isinstance(output, list): raise Exception(\"Output format not in a list of json\")\n",
    "            else:\n",
    "                output = [output]\n",
    "                \n",
    "            # check for each element in the output_list, the format is correctly adhered to\n",
    "            for index in range(len(output)):\n",
    "                for key in output_format.keys():\n",
    "                    # unable to ensure accuracy of dynamic output header, so skip it\n",
    "                    if '<' in key or '>' in key: continue\n",
    "                    # if output field missing, raise an error\n",
    "                    if key not in output[index]: raise Exception(f\"{key} not in json output\")\n",
    "                    # check that one of the choices given for the list of words is an unknown\n",
    "                    if isinstance(output_format[key], list):\n",
    "                        choices = output_format[key]\n",
    "                        # ensure output is not a list\n",
    "                        if isinstance(output[index][key], list):\n",
    "                            output[index][key] = output[index][key][0]\n",
    "                        # output the default category (if any) if GPT is unable to identify the category\n",
    "                        if output[index][key] not in choices and default_category:\n",
    "                            output[index][key] = default_category\n",
    "                        # if the output is a description format, get only the label\n",
    "                        if ':' in output[index][key]:\n",
    "                            output[index][key] = output[index][key].split(':')[0]\n",
    "                            \n",
    "                # if we just want the values for the outputs\n",
    "                if output_value_only:\n",
    "                    output[index] = [value for value in output[index].values()]\n",
    "                    # just output without the list if there is only one element\n",
    "                    if len(output[index]) == 1:\n",
    "                        output[index] = output[index][0]\n",
    "                    \n",
    "            return output if list_input else output[0]\n",
    "\n",
    "        except Exception as e:\n",
    "            error_msg = f\"\\n\\nResult: {res}\\n\\nError message: {str(e)}\"\n",
    "            print(\"An exception occurred:\", str(e))\n",
    "            print(\"Current invalid json format:\", res)\n",
    "         \n",
    "    return {}"
   ]
  },
  {
   "cell_type": "code",
   "execution_count": 7,
   "id": "c1961086-bd21-444f-936e-b43c6b6514ae",
   "metadata": {
    "tags": []
   },
   "outputs": [],
   "source": [
    "def extract_unique_urls(url, unwanted_url = [], keyword_list=[]):\n",
    "    ''' Given the original url, find out the urls containted on that page which are unique and contain the keyword '''\n",
    "    try:\n",
    "        response = requests.get(url, timeout = timeout)\n",
    "    except Exception as e:\n",
    "        print(f'Unable to access {url}')\n",
    "        return []\n",
    "    \n",
    "    # Parse the HTML content\n",
    "    soup = BeautifulSoup(response.text, 'html.parser')\n",
    "    \n",
    "    # Find the HTML elements that contain the URLs you want to extract\n",
    "    url_elements = soup.select('a[href]')  # Select all anchor tags with an href attribute\n",
    "\n",
    "    # Extract the URLs from the HTML elements\n",
    "    url_list = []\n",
    "    url_by_keyword = {}\n",
    "    for element in url_elements:\n",
    "        url = element['href']\n",
    "        if 'https://' not in url: continue\n",
    "        \n",
    "        # if url is not relevant, skip it\n",
    "        relevant = True\n",
    "        for each in unwanted_url:\n",
    "            if each in url: relevant = False\n",
    "        if not relevant: continue\n",
    "        \n",
    "        relevant = False\n",
    "        for keyword in keyword_list:\n",
    "            if keyword in url: relevant = True\n",
    "        if not relevant: continue\n",
    "        url_list.append(url)\n",
    "\n",
    "    # Process the URLs or print the list\n",
    "    return list(set(url_list))"
   ]
  },
  {
   "cell_type": "code",
   "execution_count": 8,
   "id": "7e66699c-b941-48a2-89cc-55a614ded761",
   "metadata": {
    "tags": []
   },
   "outputs": [],
   "source": [
    "def get_root_url(url):\n",
    "    parsed_url = urlparse(url)\n",
    "    root_url = parsed_url.scheme + '://' + parsed_url.netloc\n",
    "    return root_url"
   ]
  },
  {
   "cell_type": "code",
   "execution_count": 10,
   "id": "8634f76d-80de-44a8-b1bb-e1c724b8cebf",
   "metadata": {
    "tags": []
   },
   "outputs": [],
   "source": [
    "def spaced_text(soup):\n",
    "    return \" \".join(t.strip() for t in soup.findAll(string=True) if t.parent.name not in ['style', 'script', 'head', 'title', 'meta', '[document]'])\n",
    "\n",
    "def view_url(url, driver=driver, timeout = timeout):\n",
    "    ''' Views how GPT would see a webpage '''\n",
    "    try:\n",
    "        # Get the webpage\n",
    "        driver.get(url)\n",
    "\n",
    "        # Let's wait for the JavaScript to run with an implicit wait\n",
    "        # Here we wait up to timeout seconds for the elements to become available\n",
    "        driver.implicitly_wait(timeout)\n",
    "\n",
    "        # Get the page source and parse it with BeautifulSoup\n",
    "        soup = BeautifulSoup(driver.page_source, 'html.parser')\n",
    "        \n",
    "        # Send a GET request\n",
    "        # response = requests.get(url, timeout = timeout)\n",
    "        # Parse the HTML content\n",
    "        # soup = BeautifulSoup(response.text, 'html.parser')\n",
    "        \n",
    "        # Extract metadata information\n",
    "        text_content = 'Metadata:\\n'\n",
    "        meta_tags = soup.find_all(\"meta\")\n",
    "        for meta_tag in meta_tags:\n",
    "            # Get the 'name' and 'content' attributes if present\n",
    "            name = meta_tag.get(\"name\")\n",
    "            contents = meta_tag.get(\"content\")\n",
    "            if name and contents:\n",
    "                text_content += f\"{name}: {contents}\\n\"\n",
    "                \n",
    "        text_content = text_content + '\\nMain Text:\\n' + spaced_text(soup)\n",
    "\n",
    "        # Do space processing\n",
    "        text_content = re.sub('\\n+', '\\n', text_content)\n",
    "        text_content = re.sub('\\ {2,}', ' ', text_content)\n",
    "\n",
    "    except Exception as e:\n",
    "        print(e)\n",
    "        return 'Unable to retrieve data'\n",
    "\n",
    "    return text_content"
   ]
  },
  {
   "cell_type": "markdown",
   "id": "4478535b-ba51-42d4-b173-0d9ff6a24231",
   "metadata": {
    "tags": []
   },
   "source": [
    "## Unit Tests"
   ]
  },
  {
   "cell_type": "code",
   "execution_count": 13,
   "id": "45592c88-14fe-462f-9fd2-aebd40376ee5",
   "metadata": {
    "tags": []
   },
   "outputs": [
    {
     "name": "stdout",
     "output_type": "stream",
     "text": [
      "[]\n"
     ]
    }
   ],
   "source": [
    "url = \"https://learn.deeplearning.ai/\"\n",
    "out = extract_unique_urls(url, keyword_list = ['course'])\n",
    "print(out)"
   ]
  },
  {
   "cell_type": "code",
   "execution_count": 14,
   "id": "2c59036d-747c-4216-9b4b-c61ba35a4ca9",
   "metadata": {
    "tags": []
   },
   "outputs": [
    {
     "name": "stdout",
     "output_type": "stream",
     "text": [
      "https://towardsdatascience.com\n"
     ]
    }
   ],
   "source": [
    "url = 'https://towardsdatascience.com/stable-diffusion-as-an-api-5e381aec1f6'\n",
    "root_url = get_root_url(url)\n",
    "print(root_url)"
   ]
  },
  {
   "cell_type": "code",
   "execution_count": 15,
   "id": "72accfd8-b03d-4a5d-a160-9471e05459ba",
   "metadata": {
    "tags": []
   },
   "outputs": [
    {
     "name": "stdout",
     "output_type": "stream",
     "text": [
      "No existing driver to delete\n",
      "Initializing new driver\n",
      "Driver initialized: <selenium.webdriver.firefox.webdriver.WebDriver (session=\"45f35281-4ba7-49fa-9641-d338caf8d3fc\")>\n",
      "Metadata:\n",
      "generator: Docusaurus v2.4.0\n",
      "twitter:card: summary_large_image\n",
      "twitter:image: https://python.langchain.com/img/parrot-chainlink-icon.png\n",
      "docusaurus_locale: en\n",
      "docsearch:language: en\n",
      "docusaurus_version: current\n",
      "docusaurus_tag: docs-default-current\n",
      "docsearch:version: current\n",
      "docsearch:docusaurus_tag: docs-default-current\n",
      "description: This covers how to use WebBaseLoader to load all text from HTML webpages into a document format that we can use downstream. For more custom logic for loadin\n"
     ]
    }
   ],
   "source": [
    "driver = start_driver()\n",
    "# always do this to test. This website needs security clearance\n",
    "url = \"https://python.langchain.com/docs/modules/data_connection/document_loaders/integrations/web_base\"\n",
    "out = view_url(url, driver = driver)\n",
    "print(out[:500])"
   ]
  },
  {
   "cell_type": "markdown",
   "id": "b4a4f5a6-fbb2-48ec-bc01-2d8824091398",
   "metadata": {},
   "source": [
    "# Main Program"
   ]
  },
  {
   "cell_type": "code",
   "execution_count": 20,
   "id": "fc75b654-4d77-4edc-8834-d0422a91fc09",
   "metadata": {
    "tags": []
   },
   "outputs": [
    {
     "name": "stdout",
     "output_type": "stream",
     "text": [
      "['Large Language Model courses']\n"
     ]
    }
   ],
   "source": [
    "# Use GPT-3.5-turbo to get good queries for Google Search\n",
    "res = strict_output(system_prompt = f'''You are a helpful assistant meant to design google web queries to find information. Give {num_google_queries} suitable queries to get information corresponding to what the user wants.''',\n",
    "                    user_prompt = f'''Base Query: {query}, Output Format: {output_format}''', \n",
    "                    output_format = {\"query\"+str(i):\"query text\" for i in range(num_google_queries)},\n",
    "                    output_value_only = True)\n",
    "\n",
    "search_terms = res\n",
    "if num_google_queries == 1:\n",
    "    search_terms = [search_terms]\n",
    "print(search_terms)"
   ]
  },
  {
   "cell_type": "code",
   "execution_count": 21,
   "id": "c187da50-a1da-465d-8028-44519c527653",
   "metadata": {
    "tags": []
   },
   "outputs": [],
   "source": [
    "# Get the search results from google \n",
    "# NOTE: Do not run this cell too often, you only have 100 search API calls a day!\n",
    "\n",
    "datalist = []\n",
    "# this is for the first 10 sites for each search term\n",
    "for search_term in search_terms:\n",
    "    # Send a GET request to the Custom Search API\n",
    "    response = requests.get(f'https://www.googleapis.com/customsearch/v1?key={api_key}&cx={cx}&q={search_term}')\n",
    "    \n",
    "    # Extract the relevant information from the response\n",
    "    data = response.json()\n",
    "    \n",
    "    datalist.append(data)\n",
    "\n",
    "# this one is for the next 10 sites for each search term\n",
    "if twenty:\n",
    "    for search_term in search_terms:\n",
    "        # Send a GET request to the Custom Search API\n",
    "        response = requests.get(f'https://www.googleapis.com/customsearch/v1?key={api_key}&cx={cx}&q={search_term}&start=10')\n",
    "\n",
    "        # Extract the relevant information from the response\n",
    "        data = response.json()\n",
    "\n",
    "        datalist.append(data)"
   ]
  },
  {
   "cell_type": "code",
   "execution_count": 23,
   "id": "f78aa073-5bb9-436e-896a-e6977a4dfa04",
   "metadata": {
    "tags": []
   },
   "outputs": [
    {
     "name": "stdout",
     "output_type": "stream",
     "text": [
      "Doing split 1 out of 1, search term: Large Language Model courses\n",
      "Main url: https://www.edx.org/professional-certificate/databricks-large-language-models, Secondary url: ['https://courses.edx.org/login', 'https://courses.edx.org/support/contact_us', 'https://courses.edx.org/register']\n",
      "Main url: https://www.cloudskillsboost.google/course_templates/539, Secondary url: ['https://cloud.google.com/training/courses', 'https://www.coursera.org/googlecloud']\n",
      "Main url: https://www.kdnuggets.com/2023/03/top-free-courses-large-language-models.html, Secondary url: ['https://www.addtoany.com/add_to/linkedin?linkurl=https%3A%2F%2Fwww.kdnuggets.com%2F2023%2F03%2Ftop-free-courses-large-language-models.html&linkname=Top%20Free%20Courses%20on%20Large%20Language%20Models', 'https://www.addtoany.com/add_to/email?linkurl=https%3A%2F%2Fwww.kdnuggets.com%2F2023%2F03%2Ftop-free-courses-large-language-models.html&linkname=Top%20Free%20Courses%20on%20Large%20Language%20Models', 'https://www.addtoany.com/add_to/linkedin?linkurl=https%3A%2F%2Fwww.kdnuggets.com%2F2023%2F03%2Ftop-free-courses-large-language-models.html%3Futm_source%3Drss%26utm_medium%3Drss%26utm_campaign%3Dtop-free-courses-on-large-language-models&linkname=Top%20Free%20Courses%20on%20Large%20Language%20Models', 'https://huggingface.co/course/chapter1/1', 'https://www.addtoany.com/add_to/twitter?linkurl=https%3A%2F%2Fwww.kdnuggets.com%2F2023%2F03%2Ftop-free-courses-large-language-models.html%3Futm_source%3Drss%26utm_medium%3Drss%26utm_campaign%3Dtop-free-courses-on-large-language-models&linkname=Top%20Free%20Courses%20on%20Large%20Language%20Models', 'https://www.addtoany.com/add_to/facebook?linkurl=https%3A%2F%2Fwww.kdnuggets.com%2F2023%2F03%2Ftop-free-courses-large-language-models.html&linkname=Top%20Free%20Courses%20on%20Large%20Language%20Models', 'https://www.kdnuggets.com/2023/06/free-courses-large-language-models.html', 'https://www.cs.princeton.edu/courses/archive/fall22/cos597G/', 'https://www.addtoany.com/add_to/twitter?linkurl=https%3A%2F%2Fwww.kdnuggets.com%2F2023%2F03%2Ftop-free-courses-large-language-models.html&linkname=Top%20Free%20Courses%20on%20Large%20Language%20Models', 'https://www.addtoany.com/add_to/email?linkurl=https%3A%2F%2Fwww.kdnuggets.com%2F2023%2F03%2Ftop-free-courses-large-language-models.html%3Futm_source%3Drss%26utm_medium%3Drss%26utm_campaign%3Dtop-free-courses-on-large-language-models&linkname=Top%20Free%20Courses%20on%20Large%20Language%20Models', 'https://www.kdnuggets.com/2021/03/3-more-free-nlp-courses.html', 'https://www.kdnuggets.com/courses/index.html', 'https://www.addtoany.com/add_to/reddit?linkurl=https%3A%2F%2Fwww.kdnuggets.com%2F2023%2F03%2Ftop-free-courses-large-language-models.html&linkname=Top%20Free%20Courses%20on%20Large%20Language%20Models', 'https://www.addtoany.com/add_to/facebook?linkurl=https%3A%2F%2Fwww.kdnuggets.com%2F2023%2F03%2Ftop-free-courses-large-language-models.html%3Futm_source%3Drss%26utm_medium%3Drss%26utm_campaign%3Dtop-free-courses-on-large-language-models&linkname=Top%20Free%20Courses%20on%20Large%20Language%20Models', 'https://www.addtoany.com/add_to/reddit?linkurl=https%3A%2F%2Fwww.kdnuggets.com%2F2023%2F03%2Ftop-free-courses-large-language-models.html%3Futm_source%3Drss%26utm_medium%3Drss%26utm_campaign%3Dtop-free-courses-on-large-language-models&linkname=Top%20Free%20Courses%20on%20Large%20Language%20Models']\n",
      "Main url: https://aws.amazon.com/blogs/aws/generative-ai-with-large-language-models-new-hands-on-course-by-deeplearning-ai-and-aws/, Secondary url: ['https://twitter.com/intent/tweet/?text=Generative%20AI%20with%20Large%20Language%20Models%20%E2%80%94%20New%20Hands-on%20Course%20by%20DeepLearning.AI%20and%20AWS&via=awscloud&url=https://aws.amazon.com/blogs/aws/generative-ai-with-large-language-models-new-hands-on-course-by-deeplearning-ai-and-aws/', 'https://aws.amazon.com/blogs/aws/generative-ai-with-large-language-models-new-hands-on-course-by-deeplearning-ai-and-aws/#Comments', 'https://www.linkedin.com/shareArticle?mini=true&title=Generative%20AI%20with%20Large%20Language%20Models%20%E2%80%94%20New%20Hands-on%20Course%20by%20DeepLearning.AI%20and%20AWS&source=Amazon%20Web%20Services&url=https://aws.amazon.com/blogs/aws/generative-ai-with-large-language-models-new-hands-on-course-by-deeplearning-ai-and-aws/', 'mailto:?subject=Generative%20AI%20with%20Large%20Language%20Models%20%E2%80%94%20New%20Hands-on%20Course%20by%20DeepLearning.AI%20and%20AWS&body=Generative%20AI%20with%20Large%20Language%20Models%20%E2%80%94%20New%20Hands-on%20Course%20by%20DeepLearning.AI%20and%20AWS%0A%0Ahttps://aws.amazon.com/blogs/aws/generative-ai-with-large-language-models-new-hands-on-course-by-deeplearning-ai-and-aws/', 'https://commenting.awsblogs.com/embed-1.0.html?disqus_shortname=aws-official-blog&disqus_identifier=72451&disqus_title=Generative+AI+with+Large+Language+Models+%E2%80%94+New+Hands-on+Course+by+DeepLearning.AI+and+AWS&disqus_url=https://aws.amazon.com/blogs/aws/generative-ai-with-large-language-models-new-hands-on-course-by-deeplearning-ai-and-aws/', 'https://aws.amazon.com/blogs/aws/generative-ai-with-large-language-models-new-hands-on-course-by-deeplearning-ai-and-aws/', 'https://www.deeplearning.ai/courses/generative-ai-with-llms/', 'https://www.facebook.com/sharer/sharer.php?u=https://aws.amazon.com/blogs/aws/generative-ai-with-large-language-models-new-hands-on-course-by-deeplearning-ai-and-aws/']\n",
      "Main url: https://www.coursera.org/learn/introduction-to-large-language-models, Secondary url: ['https://www.coursera.org/professional-certificates/google-advanced-data-analytics', 'https://www.coursera.org/courses?query=python', 'https://www.instagram.com/coursera/', 'https://learner.coursera.help/hc/en-us/articles/208280266-Refund-policies', 'https://www.coursera.org/professional-certificates/meta-back-end-developer', 'https://www.coursera.org/browse/data-science', 'https://www.coursera.org/specializations/machine-learning-introduction', 'https://www.coursera.support/s/article/360041137871-A-community-response-to-COVID-19', 'https://www.coursera.org/courses?query=chatgpt', 'https://www.coursera.org/articles/professional-development-goals', 'https://www.linkedin.com/company/coursera', 'https://www.coursera.org/courses?query=digital%20marketing', 'https://www.youtube.com/user/coursera', 'https://www.coursera.org/about/partners', 'https://www.coursera.org/browse/computer-science', 'https://www.coursera.org/courses?query=free', 'https://www.tiktok.com/@coursera', 'https://www.coursera.org/articles/job-application-email', 'https://www.coursera.org/professional-certificates/google-business-intelligence', 'https://www.coursera.org/collections/new-courses-on-coursera', 'https://www.coursera.org/courses?query=project%20management', 'https://www.coursera.org/courses?query=artificial%20intelligence', 'https://www.coursera.community', 'https://www.coursera.support/s/article/360000152926-Become-a-Coursera-beta-tester', 'https://www.coursera.org/courses?query=microsoft%20excel', 'https://www.coursera.org/articles/popular-cybersecurity-certifications', 'https://www.coursera.org/professional-certificates/ai-engineer', 'https://about.coursera.org/leadership', 'https://careers.coursera.com/', 'https://twitter.com/coursera', 'https://www.coursera.org/courses?query=web%20development', 'https://learner.coursera.help/hc/', 'https://www.coursera.org/browse/data-science/data-analysis', 'https://www.coursera.org/professional-certificates/meta-front-end-developer', 'https://www.coursera.org/articles/how-to-write-a-letter-of-recommendation-template-tips', 'https://about.coursera.org/how-coursera-works/', 'https://coursera_assets.s3.amazonaws.com/footer/Modern+Slavery+Statement+26+April+2023.pdf', 'https://www.coursera.org/professional-certificates/ibm-data-analyst', 'https://www.coursera.org/learn/generative-ai-with-llms', 'https://www.coursera.org/browse/language-learning/learning-english', 'https://www.coursera.org/articles/announce-new-job-linkedin', 'https://www.coursera.org/courses', 'https://www.coursera.org/browse/data-science/machine-learning', 'https://investor.coursera.com', 'https://blog.coursera.org', 'https://www.coursera.org/government?utm_content=corp-to-landing-for-government&utm_campaign=website&utm_medium=coursera&utm_source=header&utm_term=b-out', 'https://www.coursera.org/articles/how-to-ask-for-a-letter-of-recommendation-template-tips', 'https://www.coursera.org/professional-certificates/google-digital-marketing-ecommerce', 'https://www.coursera.org/', 'https://learner.coursera.help/hc', 'https://medium.com/coursera-engineering', 'https://about.coursera.org/', 'https://www.coursera.org/professional-certificates/google-cybersecurity', 'https://www.coursera.org/articles', 'https://www.coursera.org/professional-certificates/google-data-analytics', 'https://www.coursera.org/articles/4-ps-of-marketing', 'https://www.coursera.org/articles/what-does-a-data-analyst-do-a-career-guide', 'https://about.coursera.org/affiliates', 'https://www.coursera.org/business?utm_content=corp-to-home-for-enterprise&utm_campaign=website&utm_medium=coursera&utm_source=header&utm_term=b-out', 'https://www.coursera.org/articles/strengths-and-weaknesses-interview', 'https://www.coursera.org/courses?query=cybersecurity', 'https://www.coursera.org/learn/prompt-engineering', 'https://www.coursera.org/courses?query=product%20management', 'https://www.coursera.org/campus?utm_content=corp-to-landing-for-campus&utm_campaign=website&utm_medium=coursera&utm_source=header&utm_term=b-out', 'https://www.coursera.org/browse/information-technology', 'https://www.coursera.org/articles/high-income-skills', 'https://partnerships.coursera.org/?utm_medium=coursera&utm_source=partnerships&utm_campaign=website&utm_content=corp-to-home-footer-become-a-partner', 'https://translate-coursera.org', 'https://www.coursera.org/courses?query=power%20bi', 'https://learner.coursera.help/hc/articles/360050668591-Accessibility-Statement']\n",
      "Main url: https://medium.com/geekculture/top-resoruces-to-learn-understand-large-language-models-4d339f7b685d, Secondary url: []\n",
      "Main url: https://stanford-cs324.github.io/winter2022/, Secondary url: ['https://canvas.stanford.edu/courses/149841/external_tools/5384', 'https://www.gradescope.com/courses/342794', 'https://canvas.stanford.edu/courses/149841/external_tools/24287?display=borderless', 'https://canvas.stanford.edu/courses/149841']\n",
      "Main url: https://www.databricks.com/blog/enroll-our-new-expert-led-large-language-models-llms-courses-edx, Secondary url: ['https://www.facebook.com/sharer/sharer.php?u=https://www.databricks.com/blog/enroll-our-new-expert-led-large-language-models-llms-courses-edx', 'https://www.edx.org/course/large-language-models-application-through-production', 'https://www.linkedin.com/shareArticle?mini=true&url=https://www.databricks.com/blog/enroll-our-new-expert-led-large-language-models-llms-courses-edx&summary=&source=', 'https://www.edx.org/course/large-language-models-foundation-models-from-the-ground-up', 'https://twitter.com/intent/tweet?text=https://www.databricks.com/blog/enroll-our-new-expert-led-large-language-models-llms-courses-edx']\n",
      "Main url: https://www.deeplearning.ai/short-courses/large-language-models-semantic-search/, Secondary url: []\n"
     ]
    }
   ],
   "source": [
    "# Use the Google results and populate the URL dictionary\n",
    "urldict = {}\n",
    "mainurllist = []\n",
    "for num, data in enumerate(datalist):\n",
    "    print(f'Doing split {num+1} out of {len(datalist)}, search term: {search_terms[num%len(search_terms)]}')\n",
    "    # Process the search results and get list of secondary sources\n",
    "    items = data.get('items', [])\n",
    "    for item in items:\n",
    "        title = item.get('title')\n",
    "        snippet = item.get('snippet')\n",
    "        url = item.get('link')\n",
    "        # if url has been done before, skip it\n",
    "        if url in urldict: continue\n",
    "        \n",
    "        # if url is not relevant, skip it\n",
    "        relevant = True\n",
    "        for each in unwanted_url:\n",
    "            if each in url: relevant = False\n",
    "        if not relevant: continue\n",
    "            \n",
    "        urldict[url] = title\n",
    "        mainurllist.append(url)\n",
    "        \n",
    "        ## Secondary Links from primary link\n",
    "        new_urls = extract_unique_urls(url, unwanted_url = unwanted_url, keyword_list = keyword_list)\n",
    "        print(f'Main url: {url}, Secondary url: {new_urls}')\n",
    "        for new_url in new_urls:\n",
    "            # if url has been done before, skip it\n",
    "            if new_url in urldict: continue\n",
    "            # populate the new url dictionary\n",
    "            urldict[new_url] = title\n",
    "\n",
    "# print(urldict)"
   ]
  },
  {
   "cell_type": "code",
   "execution_count": 24,
   "id": "12745eb4-d52a-403f-9ee2-520512f18deb",
   "metadata": {
    "tags": []
   },
   "outputs": [
    {
     "name": "stdout",
     "output_type": "stream",
     "text": [
      "Original main search url numbers: 9\n"
     ]
    }
   ],
   "source": [
    "print('Original main search url numbers:', len(mainurllist))"
   ]
  },
  {
   "cell_type": "code",
   "execution_count": 25,
   "id": "0da738e1-e6e3-426f-9fda-37aaef4dfed8",
   "metadata": {
    "tags": []
   },
   "outputs": [
    {
     "name": "stdout",
     "output_type": "stream",
     "text": [
      "Original total search url numbers: 115\n"
     ]
    }
   ],
   "source": [
    "print('Original total search url numbers:', len(urldict))"
   ]
  },
  {
   "cell_type": "markdown",
   "id": "f7bfa6f9-9d6c-4334-a727-7444358c5b1c",
   "metadata": {
    "tags": []
   },
   "source": [
    "## Filter\n",
    "- Get at most max_url_per_site sites per main site (title as key)\n",
    "- Use GPT to decide which sites are more important"
   ]
  },
  {
   "cell_type": "code",
   "execution_count": 26,
   "id": "325ca04c-cb48-480f-adf7-7f7f3f354a91",
   "metadata": {
    "tags": []
   },
   "outputs": [],
   "source": [
    "## Get new dictionary with title as key and list of urls as value\n",
    "titledict = {}\n",
    "for key, value in urldict.items():\n",
    "    value = value.replace('’','\\'')\n",
    "    if value not in titledict:\n",
    "        titledict[value] = [key]\n",
    "    else:\n",
    "        titledict[value].append(key)"
   ]
  },
  {
   "cell_type": "code",
   "execution_count": 28,
   "id": "61b1799b-0c25-46ee-9c92-94f2314e7a3e",
   "metadata": {
    "tags": []
   },
   "outputs": [
    {
     "name": "stdout",
     "output_type": "stream",
     "text": [
      "Original list: ['https://www.edx.org/professional-certificate/databricks-large-language-models', 'https://courses.edx.org/login', 'https://courses.edx.org/support/contact_us', 'https://courses.edx.org/register']\n",
      "Curated list: ['https://www.edx.org/professional-certificate/databricks-large-language-models']\n",
      "Original list: ['https://www.kdnuggets.com/2023/03/top-free-courses-large-language-models.html', 'https://www.addtoany.com/add_to/linkedin?linkurl=https%3A%2F%2Fwww.kdnuggets.com%2F2023%2F03%2Ftop-free-courses-large-language-models.html&linkname=Top%20Free%20Courses%20on%20Large%20Language%20Models', 'https://www.addtoany.com/add_to/email?linkurl=https%3A%2F%2Fwww.kdnuggets.com%2F2023%2F03%2Ftop-free-courses-large-language-models.html&linkname=Top%20Free%20Courses%20on%20Large%20Language%20Models', 'https://www.addtoany.com/add_to/linkedin?linkurl=https%3A%2F%2Fwww.kdnuggets.com%2F2023%2F03%2Ftop-free-courses-large-language-models.html%3Futm_source%3Drss%26utm_medium%3Drss%26utm_campaign%3Dtop-free-courses-on-large-language-models&linkname=Top%20Free%20Courses%20on%20Large%20Language%20Models', 'https://huggingface.co/course/chapter1/1', 'https://www.addtoany.com/add_to/twitter?linkurl=https%3A%2F%2Fwww.kdnuggets.com%2F2023%2F03%2Ftop-free-courses-large-language-models.html%3Futm_source%3Drss%26utm_medium%3Drss%26utm_campaign%3Dtop-free-courses-on-large-language-models&linkname=Top%20Free%20Courses%20on%20Large%20Language%20Models', 'https://www.addtoany.com/add_to/facebook?linkurl=https%3A%2F%2Fwww.kdnuggets.com%2F2023%2F03%2Ftop-free-courses-large-language-models.html&linkname=Top%20Free%20Courses%20on%20Large%20Language%20Models', 'https://www.kdnuggets.com/2023/06/free-courses-large-language-models.html', 'https://www.cs.princeton.edu/courses/archive/fall22/cos597G/', 'https://www.addtoany.com/add_to/twitter?linkurl=https%3A%2F%2Fwww.kdnuggets.com%2F2023%2F03%2Ftop-free-courses-large-language-models.html&linkname=Top%20Free%20Courses%20on%20Large%20Language%20Models', 'https://www.addtoany.com/add_to/email?linkurl=https%3A%2F%2Fwww.kdnuggets.com%2F2023%2F03%2Ftop-free-courses-large-language-models.html%3Futm_source%3Drss%26utm_medium%3Drss%26utm_campaign%3Dtop-free-courses-on-large-language-models&linkname=Top%20Free%20Courses%20on%20Large%20Language%20Models', 'https://www.kdnuggets.com/2021/03/3-more-free-nlp-courses.html', 'https://www.kdnuggets.com/courses/index.html', 'https://www.addtoany.com/add_to/reddit?linkurl=https%3A%2F%2Fwww.kdnuggets.com%2F2023%2F03%2Ftop-free-courses-large-language-models.html&linkname=Top%20Free%20Courses%20on%20Large%20Language%20Models', 'https://www.addtoany.com/add_to/facebook?linkurl=https%3A%2F%2Fwww.kdnuggets.com%2F2023%2F03%2Ftop-free-courses-large-language-models.html%3Futm_source%3Drss%26utm_medium%3Drss%26utm_campaign%3Dtop-free-courses-on-large-language-models&linkname=Top%20Free%20Courses%20on%20Large%20Language%20Models', 'https://www.addtoany.com/add_to/reddit?linkurl=https%3A%2F%2Fwww.kdnuggets.com%2F2023%2F03%2Ftop-free-courses-large-language-models.html%3Futm_source%3Drss%26utm_medium%3Drss%26utm_campaign%3Dtop-free-courses-on-large-language-models&linkname=Top%20Free%20Courses%20on%20Large%20Language%20Models']\n",
      "Curated list: ['https://www.kdnuggets.com/2023/03/top-free-courses-large-language-models.html', 'https://huggingface.co/course/chapter1/1', 'https://www.cs.princeton.edu/courses/archive/fall22/cos597G/']\n",
      "Original list: ['https://aws.amazon.com/blogs/aws/generative-ai-with-large-language-models-new-hands-on-course-by-deeplearning-ai-and-aws/', 'https://twitter.com/intent/tweet/?text=Generative%20AI%20with%20Large%20Language%20Models%20%E2%80%94%20New%20Hands-on%20Course%20by%20DeepLearning.AI%20and%20AWS&via=awscloud&url=https://aws.amazon.com/blogs/aws/generative-ai-with-large-language-models-new-hands-on-course-by-deeplearning-ai-and-aws/', 'https://aws.amazon.com/blogs/aws/generative-ai-with-large-language-models-new-hands-on-course-by-deeplearning-ai-and-aws/#Comments', 'https://www.linkedin.com/shareArticle?mini=true&title=Generative%20AI%20with%20Large%20Language%20Models%20%E2%80%94%20New%20Hands-on%20Course%20by%20DeepLearning.AI%20and%20AWS&source=Amazon%20Web%20Services&url=https://aws.amazon.com/blogs/aws/generative-ai-with-large-language-models-new-hands-on-course-by-deeplearning-ai-and-aws/', 'mailto:?subject=Generative%20AI%20with%20Large%20Language%20Models%20%E2%80%94%20New%20Hands-on%20Course%20by%20DeepLearning.AI%20and%20AWS&body=Generative%20AI%20with%20Large%20Language%20Models%20%E2%80%94%20New%20Hands-on%20Course%20by%20DeepLearning.AI%20and%20AWS%0A%0Ahttps://aws.amazon.com/blogs/aws/generative-ai-with-large-language-models-new-hands-on-course-by-deeplearning-ai-and-aws/', 'https://commenting.awsblogs.com/embed-1.0.html?disqus_shortname=aws-official-blog&disqus_identifier=72451&disqus_title=Generative+AI+with+Large+Language+Models+%E2%80%94+New+Hands-on+Course+by+DeepLearning.AI+and+AWS&disqus_url=https://aws.amazon.com/blogs/aws/generative-ai-with-large-language-models-new-hands-on-course-by-deeplearning-ai-and-aws/', 'https://www.deeplearning.ai/courses/generative-ai-with-llms/', 'https://www.facebook.com/sharer/sharer.php?u=https://aws.amazon.com/blogs/aws/generative-ai-with-large-language-models-new-hands-on-course-by-deeplearning-ai-and-aws/']\n",
      "Curated list: ['https://aws.amazon.com/blogs/aws/generative-ai-with-large-language-models-new-hands-on-course-by-deeplearning-ai-and-aws/', 'https://www.deeplearning.ai/courses/generative-ai-with-llms/', 'https://twitter.com/intent/tweet/?text=Generative%20AI%20with%20Large%20Language%20Models%20%E2%80%94%20New%20Hands-on%20Course%20by%20DeepLearning.AI%20and%20AWS&via=awscloud&url=https://aws.amazon.com/blogs/aws/generative-ai-with-large-language-models-new-hands-on-course-by-deeplearning-ai-and-aws/']\n",
      "Original list: ['https://www.coursera.org/learn/introduction-to-large-language-models', 'https://www.coursera.org/professional-certificates/google-advanced-data-analytics', 'https://www.coursera.org/courses?query=python', 'https://www.instagram.com/coursera/', 'https://learner.coursera.help/hc/en-us/articles/208280266-Refund-policies', 'https://www.coursera.org/professional-certificates/meta-back-end-developer', 'https://www.coursera.org/browse/data-science', 'https://www.coursera.org/specializations/machine-learning-introduction', 'https://www.coursera.support/s/article/360041137871-A-community-response-to-COVID-19', 'https://www.coursera.org/courses?query=chatgpt', 'https://www.coursera.org/articles/professional-development-goals', 'https://www.linkedin.com/company/coursera', 'https://www.coursera.org/courses?query=digital%20marketing', 'https://www.youtube.com/user/coursera', 'https://www.coursera.org/about/partners', 'https://www.coursera.org/browse/computer-science', 'https://www.coursera.org/courses?query=free', 'https://www.tiktok.com/@coursera', 'https://www.coursera.org/articles/job-application-email', 'https://www.coursera.org/professional-certificates/google-business-intelligence', 'https://www.coursera.org/collections/new-courses-on-coursera', 'https://www.coursera.org/courses?query=project%20management', 'https://www.coursera.org/courses?query=artificial%20intelligence', 'https://www.coursera.community', 'https://www.coursera.support/s/article/360000152926-Become-a-Coursera-beta-tester', 'https://www.coursera.org/courses?query=microsoft%20excel', 'https://www.coursera.org/articles/popular-cybersecurity-certifications', 'https://www.coursera.org/professional-certificates/ai-engineer', 'https://about.coursera.org/leadership', 'https://careers.coursera.com/', 'https://twitter.com/coursera', 'https://www.coursera.org/courses?query=web%20development', 'https://learner.coursera.help/hc/', 'https://www.coursera.org/browse/data-science/data-analysis', 'https://www.coursera.org/professional-certificates/meta-front-end-developer', 'https://www.coursera.org/articles/how-to-write-a-letter-of-recommendation-template-tips', 'https://about.coursera.org/how-coursera-works/', 'https://coursera_assets.s3.amazonaws.com/footer/Modern+Slavery+Statement+26+April+2023.pdf', 'https://www.coursera.org/professional-certificates/ibm-data-analyst', 'https://www.coursera.org/learn/generative-ai-with-llms', 'https://www.coursera.org/browse/language-learning/learning-english', 'https://www.coursera.org/articles/announce-new-job-linkedin', 'https://www.coursera.org/courses', 'https://www.coursera.org/browse/data-science/machine-learning', 'https://investor.coursera.com', 'https://blog.coursera.org', 'https://www.coursera.org/government?utm_content=corp-to-landing-for-government&utm_campaign=website&utm_medium=coursera&utm_source=header&utm_term=b-out', 'https://www.coursera.org/articles/how-to-ask-for-a-letter-of-recommendation-template-tips', 'https://www.coursera.org/professional-certificates/google-digital-marketing-ecommerce', 'https://www.coursera.org/', 'https://learner.coursera.help/hc', 'https://medium.com/coursera-engineering', 'https://about.coursera.org/', 'https://www.coursera.org/professional-certificates/google-cybersecurity', 'https://www.coursera.org/articles', 'https://www.coursera.org/professional-certificates/google-data-analytics', 'https://www.coursera.org/articles/4-ps-of-marketing', 'https://www.coursera.org/articles/what-does-a-data-analyst-do-a-career-guide', 'https://about.coursera.org/affiliates', 'https://www.coursera.org/business?utm_content=corp-to-home-for-enterprise&utm_campaign=website&utm_medium=coursera&utm_source=header&utm_term=b-out', 'https://www.coursera.org/articles/strengths-and-weaknesses-interview', 'https://www.coursera.org/courses?query=cybersecurity', 'https://www.coursera.org/learn/prompt-engineering', 'https://www.coursera.org/courses?query=product%20management', 'https://www.coursera.org/campus?utm_content=corp-to-landing-for-campus&utm_campaign=website&utm_medium=coursera&utm_source=header&utm_term=b-out', 'https://www.coursera.org/browse/information-technology', 'https://www.coursera.org/articles/high-income-skills', 'https://partnerships.coursera.org/?utm_medium=coursera&utm_source=partnerships&utm_campaign=website&utm_content=corp-to-home-footer-become-a-partner', 'https://translate-coursera.org', 'https://www.coursera.org/courses?query=power%20bi', 'https://learner.coursera.help/hc/articles/360050668591-Accessibility-Statement']\n",
      "Curated list: ['https://www.coursera.org/learn/introduction-to-large-language-models', 'https://www.coursera.org/learn/generative-ai-with-llms', 'https://www.coursera.org/']\n",
      "Original list: ['https://stanford-cs324.github.io/winter2022/', 'https://canvas.stanford.edu/courses/149841/external_tools/5384', 'https://www.gradescope.com/courses/342794', 'https://canvas.stanford.edu/courses/149841/external_tools/24287?display=borderless', 'https://canvas.stanford.edu/courses/149841']\n",
      "Curated list: ['https://stanford-cs324.github.io/winter2022/', 'https://canvas.stanford.edu/courses/149841/external_tools/5384', 'https://www.gradescope.com/courses/342794']\n",
      "Original list: ['https://www.databricks.com/blog/enroll-our-new-expert-led-large-language-models-llms-courses-edx', 'https://www.facebook.com/sharer/sharer.php?u=https://www.databricks.com/blog/enroll-our-new-expert-led-large-language-models-llms-courses-edx', 'https://www.edx.org/course/large-language-models-application-through-production', 'https://www.linkedin.com/shareArticle?mini=true&url=https://www.databricks.com/blog/enroll-our-new-expert-led-large-language-models-llms-courses-edx&summary=&source=', 'https://www.edx.org/course/large-language-models-foundation-models-from-the-ground-up', 'https://twitter.com/intent/tweet?text=https://www.databricks.com/blog/enroll-our-new-expert-led-large-language-models-llms-courses-edx']\n",
      "Curated list: ['https://www.databricks.com/blog/enroll-our-new-expert-led-large-language-models-llms-courses-edx', 'https://www.edx.org/course/large-language-models-application-through-production', 'https://www.edx.org/course/large-language-models-foundation-models-from-the-ground-up']\n"
     ]
    }
   ],
   "source": [
    "newurldict = {}\n",
    "for key, value in titledict.items():\n",
    "    ## curate each site to only top max_url_per_site entries\n",
    "    if len(value) > max_url_per_site:\n",
    "        res = strict_output(system_prompt = f'''You are a helpful assistant given the urls and title of the urls and are meant to filter the urls which match the query \"{query}\" into the given output format: {output_format}\n",
    "Return the {max_url_per_site} most relevant urls for the query \"{query}\"''',\n",
    "            user_prompt = f'''Title: {key}, URLs: {value[:50]}''',\n",
    "            output_format = {\"URL_List\": \"URL list in a string separated by space\"})\n",
    "        # if fail, just pick first max_url_per_site\n",
    "        if res == {}:\n",
    "            print('GPT filtering failed, doing manual filtering')\n",
    "            value = value[:max_url_per_site]\n",
    "            for each in value:\n",
    "                if 'http' in each: newurldict[each] = key\n",
    "        else:\n",
    "            print(f'Original list: {value}')\n",
    "            value = res['URL_List'].split(' ')\n",
    "            print(f'Curated list: {value}')\n",
    "            for each in value:\n",
    "                if 'http' in each: newurldict[each] = key\n",
    "    else:\n",
    "        for each in value:\n",
    "            if 'http' in each: newurldict[each] = key"
   ]
  },
  {
   "cell_type": "code",
   "execution_count": 29,
   "id": "c24c8bfa-2f3a-4b7f-8964-9b5043a0f36f",
   "metadata": {
    "tags": []
   },
   "outputs": [
    {
     "name": "stdout",
     "output_type": "stream",
     "text": [
      "Initial curated number: 21\n"
     ]
    }
   ],
   "source": [
    "print(f'Initial curated number: {len(newurldict)}')\n",
    "impturl = list(newurldict.keys())"
   ]
  },
  {
   "cell_type": "code",
   "execution_count": 30,
   "id": "2ddffe2d-163c-4e6a-922a-b562da335a8b",
   "metadata": {
    "tags": []
   },
   "outputs": [],
   "source": [
    "## Add back urls from main google search results, as they are most beneficial\n",
    "for url in mainurllist:\n",
    "    if url not in newurldict:\n",
    "        newurldict[url] = urldict[url]"
   ]
  },
  {
   "cell_type": "code",
   "execution_count": 31,
   "id": "906c5355-53e3-49e4-9357-f4cf3c1c0f88",
   "metadata": {
    "tags": []
   },
   "outputs": [
    {
     "name": "stdout",
     "output_type": "stream",
     "text": [
      "Final curated number: 21\n"
     ]
    }
   ],
   "source": [
    "print(f'Final curated number: {len(newurldict)}')\n",
    "impturl = list(newurldict.keys())"
   ]
  },
  {
   "cell_type": "code",
   "execution_count": 32,
   "id": "f9012473-d83c-4891-9502-7238918ebb7b",
   "metadata": {
    "tags": []
   },
   "outputs": [
    {
     "data": {
      "text/plain": [
       "['https://www.edx.org/professional-certificate/databricks-large-language-models',\n",
       " 'https://www.cloudskillsboost.google/course_templates/539',\n",
       " 'https://cloud.google.com/training/courses',\n",
       " 'https://www.coursera.org/googlecloud',\n",
       " 'https://www.kdnuggets.com/2023/03/top-free-courses-large-language-models.html',\n",
       " 'https://huggingface.co/course/chapter1/1',\n",
       " 'https://www.cs.princeton.edu/courses/archive/fall22/cos597G/',\n",
       " 'https://aws.amazon.com/blogs/aws/generative-ai-with-large-language-models-new-hands-on-course-by-deeplearning-ai-and-aws/',\n",
       " 'https://www.deeplearning.ai/courses/generative-ai-with-llms/',\n",
       " 'https://twitter.com/intent/tweet/?text=Generative%20AI%20with%20Large%20Language%20Models%20%E2%80%94%20New%20Hands-on%20Course%20by%20DeepLearning.AI%20and%20AWS&via=awscloud&url=https://aws.amazon.com/blogs/aws/generative-ai-with-large-language-models-new-hands-on-course-by-deeplearning-ai-and-aws/',\n",
       " 'https://www.coursera.org/learn/introduction-to-large-language-models',\n",
       " 'https://www.coursera.org/learn/generative-ai-with-llms',\n",
       " 'https://www.coursera.org/',\n",
       " 'https://medium.com/geekculture/top-resoruces-to-learn-understand-large-language-models-4d339f7b685d',\n",
       " 'https://stanford-cs324.github.io/winter2022/',\n",
       " 'https://canvas.stanford.edu/courses/149841/external_tools/5384',\n",
       " 'https://www.gradescope.com/courses/342794',\n",
       " 'https://www.databricks.com/blog/enroll-our-new-expert-led-large-language-models-llms-courses-edx',\n",
       " 'https://www.edx.org/course/large-language-models-application-through-production',\n",
       " 'https://www.edx.org/course/large-language-models-foundation-models-from-the-ground-up',\n",
       " 'https://www.deeplearning.ai/short-courses/large-language-models-semantic-search/']"
      ]
     },
     "execution_count": 32,
     "metadata": {},
     "output_type": "execute_result"
    }
   ],
   "source": [
    "impturl"
   ]
  },
  {
   "cell_type": "markdown",
   "id": "51ec393b-a22f-4e3d-aa9d-67a82dca75ce",
   "metadata": {},
   "source": [
    "## Get the data from the curated list"
   ]
  },
  {
   "cell_type": "code",
   "execution_count": 33,
   "id": "6b99b4dc-3057-4886-a398-c5aa3b0d3590",
   "metadata": {
    "tags": []
   },
   "outputs": [
    {
     "name": "stdout",
     "output_type": "stream",
     "text": [
      "No existing driver to delete\n",
      "Initializing new driver\n",
      "Driver initialized: <selenium.webdriver.firefox.webdriver.WebDriver (session=\"ecbb41de-e903-4835-ae8f-4bb709d1027d\")>\n"
     ]
    }
   ],
   "source": [
    "driver = start_driver()"
   ]
  },
  {
   "cell_type": "code",
   "execution_count": 34,
   "id": "f1db3b73-d5ec-4a41-bc5b-24de22ea64f5",
   "metadata": {
    "tags": []
   },
   "outputs": [],
   "source": [
    "# if we start from scatch, reset content\n",
    "content = {}\n",
    "irrelevant_url = []\n",
    "currentnum = 0"
   ]
  },
  {
   "cell_type": "code",
   "execution_count": 35,
   "id": "262f3911-8421-448f-935f-40d7562b4595",
   "metadata": {
    "tags": []
   },
   "outputs": [
    {
     "name": "stdout",
     "output_type": "stream",
     "text": [
      "https://www.edx.org/professional-certificate/databricks-large-language-models (URL #1 of 21)\n",
      "{'Course Name': 'Large Language Models Professional Certificate', 'Course Website': 'https://www.edx.org/professional-certificate/databricks-large-language-models', 'Broad Course Description': 'Learn how to build and productionize Large Language Model (LLM) based applications, including the latest frameworks, techniques, and theory behind foundation models.', 'Cost': '$178.20', 'Time': '3 months, 4-9 hours per week', 'Venue': 'Online https', 'Company': 'Databricks'}\n",
      "https://www.cloudskillsboost.google/course_templates/539 (URL #2 of 21)\n",
      "{'Course Name': 'Google Cloud Skills Boost Introduction to Large Language Models', 'Course Website': 'https://www.cloudskillsboost.google/course_templates/539', 'Broad Course Description': 'This is an introductory level microlearning course that explores what large language models (LLM) are, the use cases where they can be utilized, and how you can use prompt tuning to enhance LLM performance. It also covers Google tools to help you develop your own Gen AI apps.', 'Cost': 'Free', 'Time': '45 minutes', 'Venue': 'Online https', 'Company': 'Qwiklabs'}\n",
      "https://cloud.google.com/training/courses (URL #3 of 21)\n",
      "{'Course Name': 'Google Cloud Training Courses', 'Course Website': 'https://cloud.google.com/training/courses', 'Broad Course Description': 'Google experts and authorized instructors lead courses in an interactive, virtual or in-person classroom. Enroll in a live course today!', 'Cost': 'No info', 'Time': 'No info', 'Venue': 'Online https', 'Company': 'Google'}\n",
      "{'Course Name': 'Google Cloud Training Courses', 'Course Website': 'https://cloud.google.com/training/courses', 'Broad Course Description': 'Google experts and authorized instructors lead courses in an interactive, virtual or in-person classroom. Enroll in a live course today!', 'Cost': 'No info', 'Time': 'No info', 'Venue': 'Online https', 'Company': 'Google'}\n",
      "{'Course Name': 'Google Cloud Training Courses', 'Course Website': 'https://cloud.google.com/training/courses', 'Broad Course Description': 'Google experts and authorized instructors lead courses in an interactive, virtual or in-person classroom. Enroll in a live course today!', 'Cost': 'No info', 'Time': 'No info', 'Venue': 'Online https', 'Company': 'Google'}\n",
      "https://www.coursera.org/googlecloud (URL #4 of 21)\n",
      "{'Course Name': 'Google Cloud', 'Course Website': 'https://www.coursera.org/googlecloud', 'Broad Course Description': 'We help millions of organizations empower their employees, serve their customers, and build what’s next for their businesses with innovative technology created in—and for—the cloud.', 'Cost': 'No info', 'Time': 'No info', 'Venue': 'Online https', 'Company': 'Coursera'}\n",
      "{'Course Name': 'Google Cloud', 'Course Website': 'https://www.coursera.org/googlecloud', 'Broad Course Description': 'We help millions of organizations empower their employees, serve their customers, and build what’s next for their businesses with innovative technology created in—and for—the cloud.', 'Cost': 'No info', 'Time': 'No info', 'Venue': 'Online https', 'Company': 'Coursera'}\n",
      "{'Course Name': 'Google Cloud', 'Course Website': 'https://www.coursera.org/googlecloud', 'Broad Course Description': 'We help millions of organizations empower their employees, serve their customers, and build what’s next for their businesses with innovative technology created in—and for—the cloud.', 'Cost': 'No info', 'Time': 'No info', 'Venue': 'Online https', 'Company': 'Coursera'}\n",
      "{'Course Name': 'Google Cloud', 'Course Website': 'https://www.coursera.org/googlecloud', 'Broad Course Description': 'We help millions of organizations empower their employees, serve their customers, and build what’s next for their businesses with innovative technology created in—and for—the cloud.', 'Cost': 'No info', 'Time': 'No info', 'Venue': 'Online https', 'Company': 'Coursera'}\n",
      "https://www.kdnuggets.com/2023/03/top-free-courses-large-language-models.html (URL #5 of 21)\n",
      "{'Course Name': 'Top Free Courses on Large Language Models', 'Course Website': 'https://www.kdnuggets.com/2023/03/top-free-courses-large-language-models.html', 'Broad Course Description': 'Interested in learning how ChatGPT and other AI chatbots work under the hood? Check out these free courses and resources on large language models from Stanford, Princeton, ETH, and more.', 'Cost': 'Free', 'Time': 'No info', 'Venue': 'No info', 'Company': 'KDnuggets'}\n",
      "https://huggingface.co/course/chapter1/1 (URL #6 of 21)\n",
      "{'Course Name': 'The 🤗 Course', 'Course Website': 'https://huggingface.co/course', 'Broad Course Description': 'This course teaches natural language processing (NLP) using libraries from the Hugging Face ecosystem, including Transformers, Datasets, Tokenizers, and Accelerate. It covers topics such as Transformer models, fine-tuning, sharing models, NLP tasks, and more.', 'Cost': 'Free', 'Time': 'Approximately 6-8 hours per week', 'Venue': 'Online https', 'Company': 'Hugging Face'}\n",
      "https://www.cs.princeton.edu/courses/archive/fall22/cos597G/ (URL #7 of 21)\n",
      "{'Course Name': 'Understanding Large Language Models', 'Course Website': 'https://www.cs.princeton.edu/courses/archive/fall22/cos597G/', 'Broad Course Description': 'This course covers cutting-edge research topics centering around pre-trained language models. Topics include technical foundations, emerging capabilities, fine-tuning and adaptation, system design, and security and ethics.', 'Cost': 'No info', 'Time': 'No info', 'Venue': 'Physical Sherrerd Hall 101', 'Company': 'Princeton University'}\n",
      "{'Course Name': 'Understanding Large Language Models', 'Course Website': 'https://www.cs.princeton.edu/courses/archive/fall22/cos597G/', 'Broad Course Description': 'This course covers cutting-edge research topics centering around pre-trained language models. Topics include technical foundations, emerging capabilities, fine-tuning and adaptation, system design, and security and ethics.', 'Cost': 'No info', 'Time': 'No info', 'Venue': 'Physical Sherrerd Hall 101', 'Company': 'Princeton University'}\n",
      "https://aws.amazon.com/blogs/aws/generative-ai-with-large-language-models-new-hands-on-course-by-deeplearning-ai-and-aws/ (URL #8 of 21)\n",
      "{'Course Name': 'Generative AI with Large Language Models — New Hands-on Course by DeepLearning.AI and AWS', 'Course Website': 'https://aws.amazon.com/blogs/aws/generative-ai-with-large-language-models-new-hands-on-course-by-deeplearning-ai-and-aws/', 'Broad Course Description': 'Generative AI has taken the world by storm, and we’re starting to see the next wave of widespread adoption of AI with the potential for every customer experience and application to be reinvented with generative AI. Generative AI lets you to create new content and ideas including conversations, stories, images, videos, and music.', 'Cost': 'No info', 'Time': 'No info', 'Venue': 'Online https', 'Company': 'DeepLearning.AI and AWS'}\n",
      "{'Course Name': 'Generative AI with Large Language Models — New Hands-on Course by DeepLearning.AI and AWS', 'Course Website': 'https://aws.amazon.com/blogs/aws/generative-ai-with-large-language-models-new-hands-on-course-by-deeplearning-ai-and-aws/', 'Broad Course Description': 'Generative AI has taken the world by storm, and we’re starting to see the next wave of widespread adoption of AI with the potential for every customer experience and application to be reinvented with generative AI. Generative AI lets you to create new content and ideas including conversations, stories, images, videos, and music.', 'Cost': 'No info', 'Time': 'No info', 'Venue': 'Online https', 'Company': 'DeepLearning.AI and AWS'}\n",
      "{'Course Name': 'Generative AI with Large Language Models — New Hands-on Course by DeepLearning.AI and AWS', 'Course Website': 'https://aws.amazon.com/blogs/aws/generative-ai-with-large-language-models-new-hands-on-course-by-deeplearning-ai-and-aws/', 'Broad Course Description': 'Generative AI has taken the world by storm, and we’re starting to see the next wave of widespread adoption of AI with the potential for every customer experience and application to be reinvented with generative AI. Generative AI lets you to create new content and ideas including conversations, stories, images, videos, and music.', 'Cost': 'No info', 'Time': 'No info', 'Venue': 'Online https', 'Company': 'DeepLearning.AI and AWS'}\n",
      "{'Course Name': 'Generative AI with Large Language Models — New Hands-on Course by DeepLearning.AI and AWS', 'Course Website': 'https://aws.amazon.com/blogs/aws/generative-ai-with-large-language-models-new-hands-on-course-by-deeplearning-ai-and-aws/', 'Broad Course Description': 'Generative AI has taken the world by storm, and we’re starting to see the next wave of widespread adoption of AI with the potential for every customer experience and application to be reinvented with generative AI. Generative AI lets you to create new content and ideas including conversations, stories, images, videos, and music.', 'Cost': 'No info', 'Time': 'No info', 'Venue': 'Online https', 'Company': 'DeepLearning.AI and AWS'}\n",
      "https://www.deeplearning.ai/courses/generative-ai-with-llms/ (URL #9 of 21)\n",
      "{'Course Name': 'Generative AI with LLMs', 'Course Website': 'https://www.deeplearning.ai/courses/generative-ai-with-llms/', 'Broad Course Description': 'Learn the fundamentals of how generative AI works, and how to deploy it in real-world applications.', 'Cost': 'No info', 'Time': 'No info', 'Venue': 'Online https', 'Company': 'DeepLearning.AI'}\n",
      "https://twitter.com/intent/tweet/?text=Generative%20AI%20with%20Large%20Language%20Models%20%E2%80%94%20New%20Hands-on%20Course%20by%20DeepLearning.AI%20and%20AWS&via=awscloud&url=https://aws.amazon.com/blogs/aws/generative-ai-with-large-language-models-new-hands-on-course-by-deeplearning-ai-and-aws/ (URL #10 of 21)\n",
      "Information not relevant\n",
      "https://www.coursera.org/learn/introduction-to-large-language-models (URL #11 of 21)\n",
      "{'Course Name': 'Introduction to Large Language Models', 'Course Website': 'https://www.coursera.org/learn/introduction-to-large-language-models', 'Broad Course Description': 'This is an introductory level micro-learning course that explores what large language models (LLM) are, the use cases where they can be utilized, and how you can use prompt tuning to enhance LLM performance. It also covers Google tools to help you develop your own Gen AI apps.', 'Cost': 'Free', 'Time': 'Approx. 0 hours to complete', 'Venue': 'Online https', 'Company': 'Google Cloud'}\n",
      "https://www.coursera.org/learn/generative-ai-with-llms (URL #12 of 21)\n",
      "{'Course Name': 'Generative AI with Large Language Models', 'Course Website': 'https://www.coursera.org/learn/generative-ai-with-llms', 'Broad Course Description': 'In this course, you will learn the fundamentals of how generative AI works and how to deploy it in real-world applications. Topics covered include the transformer architecture, training and fine-tuning LLMs, optimizing models, and more.', 'Cost': 'Free', 'Time': 'Approx. 16 hours to complete', 'Venue': 'Online https', 'Company': 'Coursera'}\n",
      "{'Course Name': 'Generative AI with Large Language Models', 'Course Website': 'https://www.coursera.org/learn/generative-ai-with-llms', 'Broad Course Description': 'In this course, you will learn the fundamentals of how generative AI works and how to deploy it in real-world applications. Topics covered include the transformer architecture, training and fine-tuning LLMs, optimizing models, and more.', 'Cost': 'Free', 'Time': 'Approx. 16 hours to complete', 'Venue': 'Online https', 'Company': 'Coursera'}\n",
      "https://www.coursera.org/ (URL #13 of 21)\n",
      "{'Course Name': 'No info', 'Course Website': 'https://www.coursera.org/', 'Broad Course Description': 'Learn new job skills in online courses from industry leaders like Google, IBM, & Meta. Advance your career with top degrees from Michigan, Penn, Imperial & more.', 'Cost': 'No info', 'Time': 'No info', 'Venue': 'Online https', 'Company': 'Coursera'}\n",
      "https://medium.com/geekculture/top-resoruces-to-learn-understand-large-language-models-4d339f7b685d (URL #14 of 21)\n",
      "{'Course Name': 'Top Resoruces to Learn & Understand Large Language Models', 'Course Website': 'https://medium.com/geekculture/top-resoruces-to-learn-understand-large-language-models-4d339f7b685d', 'Broad Course Description': 'Large Language Models (LLMs) have revolutionized the field of Natural Language Processing (NLP) by providing highly accurate and efficient ways of understanding and generating human language. From chatbots and language translation to text summarization and sentiment analysis, LLMs are being used in various industries to automate and improve language-related tasks. However, learning and understanding LLMs can be a daunting task, given their complexity and sophistication. To help you get started, we’ve compiled a list of the top resources for learning and understanding LLMs, including books, crash courses, university courses, blogs, and papers. Whether you’re a beginner or an experienced NLP practitioner, these resources will provide you with valuable insights and practical knowledge to work with LLMs. Let’s dive in!', 'Cost': 'No info', 'Time': '10 min read', 'Venue': 'Online https', 'Company': 'Medium'}\n",
      "https://stanford-cs324.github.io/winter2022/ (URL #15 of 21)\n",
      "{'Course Name': 'CS324 - Large Language Models', 'Course Website': 'https://stanford-cs324.github.io/winter2022/', 'Broad Course Description': 'Students will learn the fundamentals about the modeling, theory, ethics, and systems aspects of large language models, as well as gain hands-on experience working with them.', 'Cost': 'No info', 'Time': 'Mondays and Wednesdays 3:15-4:45pm PST', 'Venue': 'Physical 200-002 (History Corner)', 'Company': 'Stanford University'}\n",
      "https://canvas.stanford.edu/courses/149841/external_tools/5384 (URL #16 of 21)\n",
      "Information not relevant\n",
      "https://www.gradescope.com/courses/342794 (URL #17 of 21)\n",
      "Information not relevant\n",
      "https://www.databricks.com/blog/enroll-our-new-expert-led-large-language-models-llms-courses-edx (URL #18 of 21)\n",
      "{'Course Name': 'Large Language Models (LLMs) Courses on edX', 'Course Website': 'https://www.databricks.com/blog/enroll-our-new-expert-led-large-language-models-llms-courses-edx', 'Broad Course Description': 'The Large Language Models (LLMs) Courses on edX are expert-led online courses that focus on building and using language models in modern applications. Students will learn through dynamic lectures, demos, and hands-on labs taught by industry leaders and researchers.', 'Cost': 'Free for auditing, nominal fee for access to managed compute environment, graded exercises, and completion certificate', 'Time': 'Summer 2023', 'Venue': 'Online https', 'Company': 'Databricks'}\n",
      "https://www.edx.org/course/large-language-models-application-through-production (URL #19 of 21)\n",
      "{'Course Name': 'Large Language Models: Application through Production', 'Course Website': 'https://www.edx.org/course/large-language-models-application-through-production', 'Broad Course Description': 'This course is aimed at developers, data scientists, and engineers looking to build LLM-centric applications with the latest and most popular frameworks. By the end of this course, you will have built an end-to-end LLM workflow that is ready for production!', 'Cost': 'Free', 'Time': '6 weeks, 4-10 hours per week', 'Venue': 'Online https', 'Company': 'Databricks'}\n",
      "https://www.edx.org/course/large-language-models-foundation-models-from-the-ground-up (URL #20 of 21)\n",
      "{'Course Name': 'Large Language Models: Foundation Models from the Ground Up', 'Course Website': 'https://www.edx.org/course/large-language-models-foundation-models-from-the-ground-up', 'Broad Course Description': 'This course dives into the details of foundation models in large language models (LLMs). You will learn the innovations that led to the proliferation of transformer-based models, including BERT, GPT, and T5, and the key breakthroughs that led to applications such as ChatGPT. Additionally, you will gain understanding about the latest advances that continue to improve LLM functionality including Flash Attention, LoRa, AliBi, and PEFT methods.', 'Cost': 'Free', 'Time': '5 weeks, 4-8 hours per week', 'Venue': 'Online https', 'Company': 'Databricks'}\n",
      "https://www.deeplearning.ai/short-courses/large-language-models-semantic-search/ (URL #21 of 21)\n",
      "{'Course Name': 'Large Language Models with Semantic Search', 'Course Website': 'https://www.deeplearning.ai/short-courses/large-language-models-semantic-search/', 'Broad Course Description': 'This course teaches the techniques needed to leverage large language models (LLMs) into search. You will learn how to enhance keyword search using LLMs, implement dense retrieval through embeddings, and implement language model-powered search into your website or project.', 'Cost': 'Free for a limited time', 'Time': '1 Hour', 'Venue': 'Online https', 'Company': 'DeepLearning.AI'}\n"
     ]
    }
   ],
   "source": [
    "## Get the data from the websites\n",
    "for num, url in enumerate(impturl):\n",
    "    \n",
    "    # to help in case we have runtime error, simply continue from those that have been done\n",
    "    if num < currentnum: continue\n",
    "    currentnum = max(num, currentnum)\n",
    "    \n",
    "    print(url, f'(URL #{num+1} of {len(impturl)})')\n",
    "    text_content = view_url(url, driver=driver)\n",
    "    \n",
    "    # filter the text into manageable bits for the parser\n",
    "    text_splitter = TokenTextSplitter(chunk_size=MAX_TOKENS, chunk_overlap=100)\n",
    "    texts = text_splitter.split_text(text_content)\n",
    "    \n",
    "    # root_url = get_root_url(url)\n",
    "    root_url = url\n",
    "    \n",
    "    # We only cap the number of chunks per site to be 4\n",
    "    for text in texts[:4]:\n",
    "        existing_entry = 'None'\n",
    "        if root_url in content:\n",
    "            existing_entry = content[root_url]\n",
    "\n",
    "        # Use GPT-3.5-turbo to get information from website\n",
    "        res = strict_output(system_prompt = f'''You are a helpful assistant meant to extract information from text that is related to {query}. If there is existing data, add on to it.\n",
    "Each field in Existing Data should have a maximum of 50 words. If you are unsure about any of the output fields, output {NO_INFO}''',\n",
    "                            user_prompt = f'''Url: {url}, Existing Data: {existing_entry}, Text: {text}''', \n",
    "                            output_format = output_format)\n",
    "        \n",
    "        if res=={}:\n",
    "            print('Empty JSON output'); break\n",
    "        if res[base_index] == NO_INFO: \n",
    "            print('Information not relevant')\n",
    "            irrelevant_url.append(url)\n",
    "            break\n",
    "            \n",
    "        content[root_url] = res\n",
    "        print(res)"
   ]
  },
  {
   "cell_type": "code",
   "execution_count": 36,
   "id": "ab907cc1-e634-4b41-a4d7-756e4d3cf32f",
   "metadata": {
    "tags": []
   },
   "outputs": [],
   "source": [
    "# make the content such that it merges all the available content together\n",
    "final_content = {}\n",
    "final_content_sources = {}\n",
    "for key, value in content.items():\n",
    "    name = value[base_index]\n",
    "    # add the webpage to the source\n",
    "    if name not in final_content_sources:\n",
    "        final_content_sources[name] = [key]\n",
    "    else:\n",
    "        final_content_sources[name].append(key)\n",
    "    \n",
    "    if name not in final_content:\n",
    "        final_content[name] = value\n",
    "    else:\n",
    "        # use GPT to match both outputs together\n",
    "        existingvalue = final_content[name]\n",
    "        currentvalue = name\n",
    "        res = strict_output(system_prompt = f'''You are a helpful assistant assistant meant to combine two sources of information together factually.\n",
    "If you are not sure about any of the output fields, output {NO_INFO}\"''',\n",
    "            user_prompt = f'''Source 1: {existingvalue}, Source 2: {currentvalue}''', \n",
    "            output_format = output_format)\n",
    "        print(f'Combining outputs for {name}\\nConsolidated Output: {res}')\n",
    "        final_content[name] = res"
   ]
  },
  {
   "cell_type": "code",
   "execution_count": 37,
   "id": "bbbf8f69-8356-44a3-a512-ac300fafc38c",
   "metadata": {
    "tags": []
   },
   "outputs": [],
   "source": [
    "# update the main dictionary with the information sources\n",
    "for key in final_content.keys():\n",
    "    final_content[key]['info_sources'] = str(final_content_sources[key]).replace('\\'',' ').replace('[','').replace(']','').replace(',','')"
   ]
  },
  {
   "cell_type": "markdown",
   "id": "1783d4ee-6fc8-4354-b97c-d34dc8f51ad8",
   "metadata": {},
   "source": [
    "## Curate the final output to see if the sources are relevant"
   ]
  },
  {
   "cell_type": "code",
   "execution_count": 39,
   "id": "e4750ed2-5bd8-4d7a-8ccd-63bfba89143b",
   "metadata": {
    "tags": []
   },
   "outputs": [
    {
     "name": "stdout",
     "output_type": "stream",
     "text": [
      "{'Course Name': 'Large Language Models Professional Certificate', 'Course Website': 'https://www.edx.org/professional-certificate/databricks-large-language-models', 'Broad Course Description': 'Learn how to build and productionize Large Language Model (LLM) based applications, including the latest frameworks, techniques, and theory behind foundation models.', 'Cost': '$178.20', 'Time': '3 months, 4-9 hours per week', 'Venue': 'Online https', 'Company': 'Databricks', 'info_sources': ' https://www.edx.org/professional-certificate/databricks-large-language-models ', 'Relevance': '3'}\n",
      "3\n",
      "{'Course Name': 'Google Cloud Skills Boost Introduction to Large Language Models', 'Course Website': 'https://www.cloudskillsboost.google/course_templates/539', 'Broad Course Description': 'This is an introductory level microlearning course that explores what large language models (LLM) are, the use cases where they can be utilized, and how you can use prompt tuning to enhance LLM performance. It also covers Google tools to help you develop your own Gen AI apps.', 'Cost': 'Free', 'Time': '45 minutes', 'Venue': 'Online https', 'Company': 'Qwiklabs', 'info_sources': ' https://www.cloudskillsboost.google/course_templates/539 ', 'Relevance': '2'}\n",
      "2\n",
      "{'Course Name': 'Google Cloud Training Courses', 'Course Website': 'https://cloud.google.com/training/courses', 'Broad Course Description': 'Google experts and authorized instructors lead courses in an interactive, virtual or in-person classroom. Enroll in a live course today!', 'Cost': 'No info', 'Time': 'No info', 'Venue': 'Online https', 'Company': 'Google', 'info_sources': ' https://cloud.google.com/training/courses ', 'Relevance': '0'}\n",
      "0\n",
      "{'Course Name': 'Google Cloud', 'Course Website': 'https://www.coursera.org/googlecloud', 'Broad Course Description': 'We help millions of organizations empower their employees, serve their customers, and build what’s next for their businesses with innovative technology created in—and for—the cloud.', 'Cost': 'No info', 'Time': 'No info', 'Venue': 'Online https', 'Company': 'Coursera', 'info_sources': ' https://www.coursera.org/googlecloud ', 'Relevance': '0'}\n",
      "0\n",
      "{'Course Name': 'Top Free Courses on Large Language Models', 'Course Website': 'https://www.kdnuggets.com/2023/03/top-free-courses-large-language-models.html', 'Broad Course Description': 'Interested in learning how ChatGPT and other AI chatbots work under the hood? Check out these free courses and resources on large language models from Stanford, Princeton, ETH, and more.', 'Cost': 'Free', 'Time': 'No info', 'Venue': 'No info', 'Company': 'KDnuggets', 'info_sources': ' https://www.kdnuggets.com/2023/03/top-free-courses-large-language-models.html ', 'Relevance': '3'}\n",
      "3\n",
      "{'Course Name': 'The 🤗 Course', 'Course Website': 'https://huggingface.co/course', 'Broad Course Description': 'This course teaches natural language processing (NLP) using libraries from the Hugging Face ecosystem, including Transformers, Datasets, Tokenizers, and Accelerate. It covers topics such as Transformer models, fine-tuning, sharing models, NLP tasks, and more.', 'Cost': 'Free', 'Time': 'Approximately 6-8 hours per week', 'Venue': 'Online https', 'Company': 'Hugging Face', 'info_sources': ' https://huggingface.co/course/chapter1/1 ', 'Relevance': '2'}\n",
      "2\n",
      "{'Course Name': 'Understanding Large Language Models', 'Course Website': 'https://www.cs.princeton.edu/courses/archive/fall22/cos597G/', 'Broad Course Description': 'This course covers cutting-edge research topics centering around pre-trained language models. Topics include technical foundations, emerging capabilities, fine-tuning and adaptation, system design, and security and ethics.', 'Cost': 'No info', 'Time': 'No info', 'Venue': 'Physical Sherrerd Hall 101', 'Company': 'Princeton University', 'info_sources': ' https://www.cs.princeton.edu/courses/archive/fall22/cos597G/ ', 'Relevance': '2'}\n",
      "2\n",
      "{'Course Name': 'Generative AI with Large Language Models — New Hands-on Course by DeepLearning.AI and AWS', 'Course Website': 'https://aws.amazon.com/blogs/aws/generative-ai-with-large-language-models-new-hands-on-course-by-deeplearning-ai-and-aws/', 'Broad Course Description': 'Generative AI has taken the world by storm, and we’re starting to see the next wave of widespread adoption of AI with the potential for every customer experience and application to be reinvented with generative AI. Generative AI lets you to create new content and ideas including conversations, stories, images, videos, and music.', 'Cost': 'No info', 'Time': 'No info', 'Venue': 'Online https', 'Company': 'DeepLearning.AI and AWS', 'info_sources': ' https://aws.amazon.com/blogs/aws/generative-ai-with-large-language-models-new-hands-on-course-by-deeplearning-ai-and-aws/ ', 'Relevance': '3'}\n",
      "3\n",
      "{'Course Name': 'Generative AI with LLMs', 'Course Website': 'https://www.deeplearning.ai/courses/generative-ai-with-llms/', 'Broad Course Description': 'Learn the fundamentals of how generative AI works, and how to deploy it in real-world applications.', 'Cost': 'No info', 'Time': 'No info', 'Venue': 'Online https', 'Company': 'DeepLearning.AI', 'info_sources': ' https://www.deeplearning.ai/courses/generative-ai-with-llms/ ', 'Relevance': '1'}\n",
      "1\n",
      "{'Course Name': 'Introduction to Large Language Models', 'Course Website': 'https://www.coursera.org/learn/introduction-to-large-language-models', 'Broad Course Description': 'This is an introductory level micro-learning course that explores what large language models (LLM) are, the use cases where they can be utilized, and how you can use prompt tuning to enhance LLM performance. It also covers Google tools to help you develop your own Gen AI apps.', 'Cost': 'Free', 'Time': 'Approx. 0 hours to complete', 'Venue': 'Online https', 'Company': 'Google Cloud', 'info_sources': ' https://www.coursera.org/learn/introduction-to-large-language-models ', 'Relevance': '3'}\n",
      "3\n",
      "{'Course Name': 'Generative AI with Large Language Models', 'Course Website': 'https://www.coursera.org/learn/generative-ai-with-llms', 'Broad Course Description': 'In this course, you will learn the fundamentals of how generative AI works and how to deploy it in real-world applications. Topics covered include the transformer architecture, training and fine-tuning LLMs, optimizing models, and more.', 'Cost': 'Free', 'Time': 'Approx. 16 hours to complete', 'Venue': 'Online https', 'Company': 'Coursera', 'info_sources': ' https://www.coursera.org/learn/generative-ai-with-llms ', 'Relevance': '2'}\n",
      "2\n",
      "{'Course Name': 'No info', 'Course Website': 'https://www.coursera.org/', 'Broad Course Description': 'Learn new job skills in online courses from industry leaders like Google, IBM, & Meta. Advance your career with top degrees from Michigan, Penn, Imperial & more.', 'Cost': 'No info', 'Time': 'No info', 'Venue': 'Online https', 'Company': 'Coursera', 'info_sources': ' https://www.coursera.org/ ', 'Relevance': '1'}\n",
      "1\n",
      "{'Course Name': 'Top Resoruces to Learn & Understand Large Language Models', 'Course Website': 'https://medium.com/geekculture/top-resoruces-to-learn-understand-large-language-models-4d339f7b685d', 'Broad Course Description': 'Large Language Models (LLMs) have revolutionized the field of Natural Language Processing (NLP) by providing highly accurate and efficient ways of understanding and generating human language. From chatbots and language translation to text summarization and sentiment analysis, LLMs are being used in various industries to automate and improve language-related tasks. However, learning and understanding LLMs can be a daunting task, given their complexity and sophistication. To help you get started, we’ve compiled a list of the top resources for learning and understanding LLMs, including books, crash courses, university courses, blogs, and papers. Whether you’re a beginner or an experienced NLP practitioner, these resources will provide you with valuable insights and practical knowledge to work with LLMs. Let’s dive in!', 'Cost': 'No info', 'Time': '10 min read', 'Venue': 'Online https', 'Company': 'Medium', 'info_sources': ' https://medium.com/geekculture/top-resoruces-to-learn-understand-large-language-models-4d339f7b685d ', 'Relevance': '2'}\n",
      "2\n",
      "{'Course Name': 'CS324 - Large Language Models', 'Course Website': 'https://stanford-cs324.github.io/winter2022/', 'Broad Course Description': 'Students will learn the fundamentals about the modeling, theory, ethics, and systems aspects of large language models, as well as gain hands-on experience working with them.', 'Cost': 'No info', 'Time': 'Mondays and Wednesdays 3:15-4:45pm PST', 'Venue': 'Physical 200-002 (History Corner)', 'Company': 'Stanford University', 'info_sources': ' https://stanford-cs324.github.io/winter2022/ ', 'Relevance': '3'}\n",
      "3\n",
      "{'Course Name': 'Large Language Models (LLMs) Courses on edX', 'Course Website': 'https://www.databricks.com/blog/enroll-our-new-expert-led-large-language-models-llms-courses-edx', 'Broad Course Description': 'The Large Language Models (LLMs) Courses on edX are expert-led online courses that focus on building and using language models in modern applications. Students will learn through dynamic lectures, demos, and hands-on labs taught by industry leaders and researchers.', 'Cost': 'Free for auditing, nominal fee for access to managed compute environment, graded exercises, and completion certificate', 'Time': 'Summer 2023', 'Venue': 'Online https', 'Company': 'Databricks', 'info_sources': ' https://www.databricks.com/blog/enroll-our-new-expert-led-large-language-models-llms-courses-edx ', 'Relevance': '3'}\n",
      "3\n",
      "{'Course Name': 'Large Language Models: Application through Production', 'Course Website': 'https://www.edx.org/course/large-language-models-application-through-production', 'Broad Course Description': 'This course is aimed at developers, data scientists, and engineers looking to build LLM-centric applications with the latest and most popular frameworks. By the end of this course, you will have built an end-to-end LLM workflow that is ready for production!', 'Cost': 'Free', 'Time': '6 weeks, 4-10 hours per week', 'Venue': 'Online https', 'Company': 'Databricks', 'info_sources': ' https://www.edx.org/course/large-language-models-application-through-production ', 'Relevance': '2'}\n",
      "2\n",
      "{'Course Name': 'Large Language Models: Foundation Models from the Ground Up', 'Course Website': 'https://www.edx.org/course/large-language-models-foundation-models-from-the-ground-up', 'Broad Course Description': 'This course dives into the details of foundation models in large language models (LLMs). You will learn the innovations that led to the proliferation of transformer-based models, including BERT, GPT, and T5, and the key breakthroughs that led to applications such as ChatGPT. Additionally, you will gain understanding about the latest advances that continue to improve LLM functionality including Flash Attention, LoRa, AliBi, and PEFT methods.', 'Cost': 'Free', 'Time': '5 weeks, 4-8 hours per week', 'Venue': 'Online https', 'Company': 'Databricks', 'info_sources': ' https://www.edx.org/course/large-language-models-foundation-models-from-the-ground-up ', 'Relevance': '3'}\n",
      "3\n",
      "{'Course Name': 'Large Language Models with Semantic Search', 'Course Website': 'https://www.deeplearning.ai/short-courses/large-language-models-semantic-search/', 'Broad Course Description': 'This course teaches the techniques needed to leverage large language models (LLMs) into search. You will learn how to enhance keyword search using LLMs, implement dense retrieval through embeddings, and implement language model-powered search into your website or project.', 'Cost': 'Free for a limited time', 'Time': '1 Hour', 'Venue': 'Online https', 'Company': 'DeepLearning.AI', 'info_sources': ' https://www.deeplearning.ai/short-courses/large-language-models-semantic-search/ ', 'Relevance': '3'}\n",
      "3\n"
     ]
    }
   ],
   "source": [
    "curated_final_content = {}\n",
    "for key, value in final_content.items():\n",
    "    res = strict_output(system_prompt = f'''You are a helpful assistant meant to see if a user input is relevant for the query: \"{query}\"\n",
    "Output whether or not it is relevant.''',\n",
    "        user_prompt = f'''{value}''', \n",
    "        output_format = {\"Relevance\": [\"3: user input matches almost all of the query\", \n",
    "                         \"2: user input matches more than half of the query\",\n",
    "                         \"1: user input matches at least one part of the query\",\n",
    "                         \"0: user input does not any part of the query\"]})\n",
    "    if res == {}: continue\n",
    "    value['Relevance'] = res['Relevance']\n",
    "    curated_final_content[key] = value\n",
    "    print(value)\n",
    "    print(res['Relevance'])"
   ]
  },
  {
   "cell_type": "code",
   "execution_count": 40,
   "id": "65356bc9-a8f2-4390-b549-5f6b5a00d9ca",
   "metadata": {
    "tags": []
   },
   "outputs": [],
   "source": [
    "# Convert it into a document\n",
    "# Convert dictionary to Excel spreadsheet\n",
    "file_path = f'{query}.xlsx'\n",
    "df = pd.DataFrame.from_dict(curated_final_content, orient = 'index')\n",
    "df = df.sort_values(by='Relevance', ascending=False)\n",
    "df.to_excel(file_path, index = False)"
   ]
  },
  {
   "cell_type": "code",
   "execution_count": 41,
   "id": "b356334d-c209-40e7-ab43-bc1c76289e37",
   "metadata": {
    "tags": []
   },
   "outputs": [
    {
     "data": {
      "text/html": [
       "<div>\n",
       "<style scoped>\n",
       "    .dataframe tbody tr th:only-of-type {\n",
       "        vertical-align: middle;\n",
       "    }\n",
       "\n",
       "    .dataframe tbody tr th {\n",
       "        vertical-align: top;\n",
       "    }\n",
       "\n",
       "    .dataframe thead th {\n",
       "        text-align: right;\n",
       "    }\n",
       "</style>\n",
       "<table border=\"1\" class=\"dataframe\">\n",
       "  <thead>\n",
       "    <tr style=\"text-align: right;\">\n",
       "      <th></th>\n",
       "      <th>Course Name</th>\n",
       "      <th>Course Website</th>\n",
       "      <th>Broad Course Description</th>\n",
       "      <th>Cost</th>\n",
       "      <th>Time</th>\n",
       "      <th>Venue</th>\n",
       "      <th>Company</th>\n",
       "      <th>info_sources</th>\n",
       "      <th>Relevance</th>\n",
       "    </tr>\n",
       "  </thead>\n",
       "  <tbody>\n",
       "    <tr>\n",
       "      <th>https://www.edx.org/professional-certificate/databricks-large-language-models</th>\n",
       "      <td>Large Language Models Professional Certificate</td>\n",
       "      <td>https://www.edx.org/professional-certificate/d...</td>\n",
       "      <td>Learn how to build and productionize Large Lan...</td>\n",
       "      <td>$178.20</td>\n",
       "      <td>3 months, 4-9 hours per week</td>\n",
       "      <td>Online https</td>\n",
       "      <td>Databricks</td>\n",
       "      <td>https://www.edx.org/professional-certificate/...</td>\n",
       "      <td>3</td>\n",
       "    </tr>\n",
       "    <tr>\n",
       "      <th>https://aws.amazon.com/blogs/aws/generative-ai-with-large-language-models-new-hands-on-course-by-deeplearning-ai-and-aws/</th>\n",
       "      <td>Generative AI with Large Language Models — New...</td>\n",
       "      <td>https://aws.amazon.com/blogs/aws/generative-ai...</td>\n",
       "      <td>Generative AI has taken the world by storm, an...</td>\n",
       "      <td>No info</td>\n",
       "      <td>No info</td>\n",
       "      <td>Online https</td>\n",
       "      <td>DeepLearning.AI and AWS</td>\n",
       "      <td>https://aws.amazon.com/blogs/aws/generative-a...</td>\n",
       "      <td>3</td>\n",
       "    </tr>\n",
       "    <tr>\n",
       "      <th>https://www.edx.org/course/large-language-models-foundation-models-from-the-ground-up</th>\n",
       "      <td>Large Language Models: Foundation Models from ...</td>\n",
       "      <td>https://www.edx.org/course/large-language-mode...</td>\n",
       "      <td>This course dives into the details of foundati...</td>\n",
       "      <td>Free</td>\n",
       "      <td>5 weeks, 4-8 hours per week</td>\n",
       "      <td>Online https</td>\n",
       "      <td>Databricks</td>\n",
       "      <td>https://www.edx.org/course/large-language-mod...</td>\n",
       "      <td>3</td>\n",
       "    </tr>\n",
       "    <tr>\n",
       "      <th>https://www.databricks.com/blog/enroll-our-new-expert-led-large-language-models-llms-courses-edx</th>\n",
       "      <td>Large Language Models (LLMs) Courses on edX</td>\n",
       "      <td>https://www.databricks.com/blog/enroll-our-new...</td>\n",
       "      <td>The Large Language Models (LLMs) Courses on ed...</td>\n",
       "      <td>Free for auditing, nominal fee for access to m...</td>\n",
       "      <td>Summer 2023</td>\n",
       "      <td>Online https</td>\n",
       "      <td>Databricks</td>\n",
       "      <td>https://www.databricks.com/blog/enroll-our-ne...</td>\n",
       "      <td>3</td>\n",
       "    </tr>\n",
       "    <tr>\n",
       "      <th>https://stanford-cs324.github.io/winter2022/</th>\n",
       "      <td>CS324 - Large Language Models</td>\n",
       "      <td>https://stanford-cs324.github.io/winter2022/</td>\n",
       "      <td>Students will learn the fundamentals about the...</td>\n",
       "      <td>No info</td>\n",
       "      <td>Mondays and Wednesdays 3:15-4:45pm PST</td>\n",
       "      <td>Physical 200-002 (History Corner)</td>\n",
       "      <td>Stanford University</td>\n",
       "      <td>https://stanford-cs324.github.io/winter2022/</td>\n",
       "      <td>3</td>\n",
       "    </tr>\n",
       "    <tr>\n",
       "      <th>https://www.coursera.org/learn/introduction-to-large-language-models</th>\n",
       "      <td>Introduction to Large Language Models</td>\n",
       "      <td>https://www.coursera.org/learn/introduction-to...</td>\n",
       "      <td>This is an introductory level micro-learning c...</td>\n",
       "      <td>Free</td>\n",
       "      <td>Approx. 0 hours to complete</td>\n",
       "      <td>Online https</td>\n",
       "      <td>Google Cloud</td>\n",
       "      <td>https://www.coursera.org/learn/introduction-t...</td>\n",
       "      <td>3</td>\n",
       "    </tr>\n",
       "    <tr>\n",
       "      <th>https://www.kdnuggets.com/2023/03/top-free-courses-large-language-models.html</th>\n",
       "      <td>Top Free Courses on Large Language Models</td>\n",
       "      <td>https://www.kdnuggets.com/2023/03/top-free-cou...</td>\n",
       "      <td>Interested in learning how ChatGPT and other A...</td>\n",
       "      <td>Free</td>\n",
       "      <td>No info</td>\n",
       "      <td>No info</td>\n",
       "      <td>KDnuggets</td>\n",
       "      <td>https://www.kdnuggets.com/2023/03/top-free-co...</td>\n",
       "      <td>3</td>\n",
       "    </tr>\n",
       "    <tr>\n",
       "      <th>https://www.deeplearning.ai/short-courses/large-language-models-semantic-search/</th>\n",
       "      <td>Large Language Models with Semantic Search</td>\n",
       "      <td>https://www.deeplearning.ai/short-courses/larg...</td>\n",
       "      <td>This course teaches the techniques needed to l...</td>\n",
       "      <td>Free for a limited time</td>\n",
       "      <td>1 Hour</td>\n",
       "      <td>Online https</td>\n",
       "      <td>DeepLearning.AI</td>\n",
       "      <td>https://www.deeplearning.ai/short-courses/lar...</td>\n",
       "      <td>3</td>\n",
       "    </tr>\n",
       "    <tr>\n",
       "      <th>https://www.cs.princeton.edu/courses/archive/fall22/cos597G/</th>\n",
       "      <td>Understanding Large Language Models</td>\n",
       "      <td>https://www.cs.princeton.edu/courses/archive/f...</td>\n",
       "      <td>This course covers cutting-edge research topic...</td>\n",
       "      <td>No info</td>\n",
       "      <td>No info</td>\n",
       "      <td>Physical Sherrerd Hall 101</td>\n",
       "      <td>Princeton University</td>\n",
       "      <td>https://www.cs.princeton.edu/courses/archive/...</td>\n",
       "      <td>2</td>\n",
       "    </tr>\n",
       "    <tr>\n",
       "      <th>https://huggingface.co/course</th>\n",
       "      <td>The 🤗 Course</td>\n",
       "      <td>https://huggingface.co/course</td>\n",
       "      <td>This course teaches natural language processin...</td>\n",
       "      <td>Free</td>\n",
       "      <td>Approximately 6-8 hours per week</td>\n",
       "      <td>Online https</td>\n",
       "      <td>Hugging Face</td>\n",
       "      <td>https://huggingface.co/course/chapter1/1</td>\n",
       "      <td>2</td>\n",
       "    </tr>\n",
       "    <tr>\n",
       "      <th>https://www.cloudskillsboost.google/course_templates/539</th>\n",
       "      <td>Google Cloud Skills Boost Introduction to Larg...</td>\n",
       "      <td>https://www.cloudskillsboost.google/course_tem...</td>\n",
       "      <td>This is an introductory level microlearning co...</td>\n",
       "      <td>Free</td>\n",
       "      <td>45 minutes</td>\n",
       "      <td>Online https</td>\n",
       "      <td>Qwiklabs</td>\n",
       "      <td>https://www.cloudskillsboost.google/course_te...</td>\n",
       "      <td>2</td>\n",
       "    </tr>\n",
       "    <tr>\n",
       "      <th>https://www.coursera.org/learn/generative-ai-with-llms</th>\n",
       "      <td>Generative AI with Large Language Models</td>\n",
       "      <td>https://www.coursera.org/learn/generative-ai-w...</td>\n",
       "      <td>In this course, you will learn the fundamental...</td>\n",
       "      <td>Free</td>\n",
       "      <td>Approx. 16 hours to complete</td>\n",
       "      <td>Online https</td>\n",
       "      <td>Coursera</td>\n",
       "      <td>https://www.coursera.org/learn/generative-ai-...</td>\n",
       "      <td>2</td>\n",
       "    </tr>\n",
       "    <tr>\n",
       "      <th>https://medium.com/geekculture/top-resoruces-to-learn-understand-large-language-models-4d339f7b685d</th>\n",
       "      <td>Top Resoruces to Learn &amp; Understand Large Lang...</td>\n",
       "      <td>https://medium.com/geekculture/top-resoruces-t...</td>\n",
       "      <td>Large Language Models (LLMs) have revolutioniz...</td>\n",
       "      <td>No info</td>\n",
       "      <td>10 min read</td>\n",
       "      <td>Online https</td>\n",
       "      <td>Medium</td>\n",
       "      <td>https://medium.com/geekculture/top-resoruces-...</td>\n",
       "      <td>2</td>\n",
       "    </tr>\n",
       "    <tr>\n",
       "      <th>https://www.edx.org/course/large-language-models-application-through-production</th>\n",
       "      <td>Large Language Models: Application through Pro...</td>\n",
       "      <td>https://www.edx.org/course/large-language-mode...</td>\n",
       "      <td>This course is aimed at developers, data scien...</td>\n",
       "      <td>Free</td>\n",
       "      <td>6 weeks, 4-10 hours per week</td>\n",
       "      <td>Online https</td>\n",
       "      <td>Databricks</td>\n",
       "      <td>https://www.edx.org/course/large-language-mod...</td>\n",
       "      <td>2</td>\n",
       "    </tr>\n",
       "    <tr>\n",
       "      <th>https://www.deeplearning.ai/courses/generative-ai-with-llms/</th>\n",
       "      <td>Generative AI with LLMs</td>\n",
       "      <td>https://www.deeplearning.ai/courses/generative...</td>\n",
       "      <td>Learn the fundamentals of how generative AI wo...</td>\n",
       "      <td>No info</td>\n",
       "      <td>No info</td>\n",
       "      <td>Online https</td>\n",
       "      <td>DeepLearning.AI</td>\n",
       "      <td>https://www.deeplearning.ai/courses/generativ...</td>\n",
       "      <td>1</td>\n",
       "    </tr>\n",
       "    <tr>\n",
       "      <th>https://www.coursera.org/</th>\n",
       "      <td>No info</td>\n",
       "      <td>https://www.coursera.org/</td>\n",
       "      <td>Learn new job skills in online courses from in...</td>\n",
       "      <td>No info</td>\n",
       "      <td>No info</td>\n",
       "      <td>Online https</td>\n",
       "      <td>Coursera</td>\n",
       "      <td>https://www.coursera.org/</td>\n",
       "      <td>1</td>\n",
       "    </tr>\n",
       "    <tr>\n",
       "      <th>https://www.coursera.org/googlecloud</th>\n",
       "      <td>Google Cloud</td>\n",
       "      <td>https://www.coursera.org/googlecloud</td>\n",
       "      <td>We help millions of organizations empower thei...</td>\n",
       "      <td>No info</td>\n",
       "      <td>No info</td>\n",
       "      <td>Online https</td>\n",
       "      <td>Coursera</td>\n",
       "      <td>https://www.coursera.org/googlecloud</td>\n",
       "      <td>0</td>\n",
       "    </tr>\n",
       "    <tr>\n",
       "      <th>https://cloud.google.com/training/courses</th>\n",
       "      <td>Google Cloud Training Courses</td>\n",
       "      <td>https://cloud.google.com/training/courses</td>\n",
       "      <td>Google experts and authorized instructors lead...</td>\n",
       "      <td>No info</td>\n",
       "      <td>No info</td>\n",
       "      <td>Online https</td>\n",
       "      <td>Google</td>\n",
       "      <td>https://cloud.google.com/training/courses</td>\n",
       "      <td>0</td>\n",
       "    </tr>\n",
       "  </tbody>\n",
       "</table>\n",
       "</div>"
      ],
      "text/plain": [
       "                                                                                          Course Name  \\\n",
       "https://www.edx.org/professional-certificate/da...     Large Language Models Professional Certificate   \n",
       "https://aws.amazon.com/blogs/aws/generative-ai-...  Generative AI with Large Language Models — New...   \n",
       "https://www.edx.org/course/large-language-model...  Large Language Models: Foundation Models from ...   \n",
       "https://www.databricks.com/blog/enroll-our-new-...        Large Language Models (LLMs) Courses on edX   \n",
       "https://stanford-cs324.github.io/winter2022/                            CS324 - Large Language Models   \n",
       "https://www.coursera.org/learn/introduction-to-...              Introduction to Large Language Models   \n",
       "https://www.kdnuggets.com/2023/03/top-free-cour...          Top Free Courses on Large Language Models   \n",
       "https://www.deeplearning.ai/short-courses/large...         Large Language Models with Semantic Search   \n",
       "https://www.cs.princeton.edu/courses/archive/fa...                Understanding Large Language Models   \n",
       "https://huggingface.co/course                                                            The 🤗 Course   \n",
       "https://www.cloudskillsboost.google/course_temp...  Google Cloud Skills Boost Introduction to Larg...   \n",
       "https://www.coursera.org/learn/generative-ai-wi...           Generative AI with Large Language Models   \n",
       "https://medium.com/geekculture/top-resoruces-to...  Top Resoruces to Learn & Understand Large Lang...   \n",
       "https://www.edx.org/course/large-language-model...  Large Language Models: Application through Pro...   \n",
       "https://www.deeplearning.ai/courses/generative-...                            Generative AI with LLMs   \n",
       "https://www.coursera.org/                                                                     No info   \n",
       "https://www.coursera.org/googlecloud                                                     Google Cloud   \n",
       "https://cloud.google.com/training/courses                               Google Cloud Training Courses   \n",
       "\n",
       "                                                                                       Course Website  \\\n",
       "https://www.edx.org/professional-certificate/da...  https://www.edx.org/professional-certificate/d...   \n",
       "https://aws.amazon.com/blogs/aws/generative-ai-...  https://aws.amazon.com/blogs/aws/generative-ai...   \n",
       "https://www.edx.org/course/large-language-model...  https://www.edx.org/course/large-language-mode...   \n",
       "https://www.databricks.com/blog/enroll-our-new-...  https://www.databricks.com/blog/enroll-our-new...   \n",
       "https://stanford-cs324.github.io/winter2022/             https://stanford-cs324.github.io/winter2022/   \n",
       "https://www.coursera.org/learn/introduction-to-...  https://www.coursera.org/learn/introduction-to...   \n",
       "https://www.kdnuggets.com/2023/03/top-free-cour...  https://www.kdnuggets.com/2023/03/top-free-cou...   \n",
       "https://www.deeplearning.ai/short-courses/large...  https://www.deeplearning.ai/short-courses/larg...   \n",
       "https://www.cs.princeton.edu/courses/archive/fa...  https://www.cs.princeton.edu/courses/archive/f...   \n",
       "https://huggingface.co/course                                           https://huggingface.co/course   \n",
       "https://www.cloudskillsboost.google/course_temp...  https://www.cloudskillsboost.google/course_tem...   \n",
       "https://www.coursera.org/learn/generative-ai-wi...  https://www.coursera.org/learn/generative-ai-w...   \n",
       "https://medium.com/geekculture/top-resoruces-to...  https://medium.com/geekculture/top-resoruces-t...   \n",
       "https://www.edx.org/course/large-language-model...  https://www.edx.org/course/large-language-mode...   \n",
       "https://www.deeplearning.ai/courses/generative-...  https://www.deeplearning.ai/courses/generative...   \n",
       "https://www.coursera.org/                                                   https://www.coursera.org/   \n",
       "https://www.coursera.org/googlecloud                             https://www.coursera.org/googlecloud   \n",
       "https://cloud.google.com/training/courses                   https://cloud.google.com/training/courses   \n",
       "\n",
       "                                                                             Broad Course Description  \\\n",
       "https://www.edx.org/professional-certificate/da...  Learn how to build and productionize Large Lan...   \n",
       "https://aws.amazon.com/blogs/aws/generative-ai-...  Generative AI has taken the world by storm, an...   \n",
       "https://www.edx.org/course/large-language-model...  This course dives into the details of foundati...   \n",
       "https://www.databricks.com/blog/enroll-our-new-...  The Large Language Models (LLMs) Courses on ed...   \n",
       "https://stanford-cs324.github.io/winter2022/        Students will learn the fundamentals about the...   \n",
       "https://www.coursera.org/learn/introduction-to-...  This is an introductory level micro-learning c...   \n",
       "https://www.kdnuggets.com/2023/03/top-free-cour...  Interested in learning how ChatGPT and other A...   \n",
       "https://www.deeplearning.ai/short-courses/large...  This course teaches the techniques needed to l...   \n",
       "https://www.cs.princeton.edu/courses/archive/fa...  This course covers cutting-edge research topic...   \n",
       "https://huggingface.co/course                       This course teaches natural language processin...   \n",
       "https://www.cloudskillsboost.google/course_temp...  This is an introductory level microlearning co...   \n",
       "https://www.coursera.org/learn/generative-ai-wi...  In this course, you will learn the fundamental...   \n",
       "https://medium.com/geekculture/top-resoruces-to...  Large Language Models (LLMs) have revolutioniz...   \n",
       "https://www.edx.org/course/large-language-model...  This course is aimed at developers, data scien...   \n",
       "https://www.deeplearning.ai/courses/generative-...  Learn the fundamentals of how generative AI wo...   \n",
       "https://www.coursera.org/                           Learn new job skills in online courses from in...   \n",
       "https://www.coursera.org/googlecloud                We help millions of organizations empower thei...   \n",
       "https://cloud.google.com/training/courses           Google experts and authorized instructors lead...   \n",
       "\n",
       "                                                                                                 Cost  \\\n",
       "https://www.edx.org/professional-certificate/da...                                            $178.20   \n",
       "https://aws.amazon.com/blogs/aws/generative-ai-...                                            No info   \n",
       "https://www.edx.org/course/large-language-model...                                               Free   \n",
       "https://www.databricks.com/blog/enroll-our-new-...  Free for auditing, nominal fee for access to m...   \n",
       "https://stanford-cs324.github.io/winter2022/                                                  No info   \n",
       "https://www.coursera.org/learn/introduction-to-...                                               Free   \n",
       "https://www.kdnuggets.com/2023/03/top-free-cour...                                               Free   \n",
       "https://www.deeplearning.ai/short-courses/large...                            Free for a limited time   \n",
       "https://www.cs.princeton.edu/courses/archive/fa...                                            No info   \n",
       "https://huggingface.co/course                                                                    Free   \n",
       "https://www.cloudskillsboost.google/course_temp...                                               Free   \n",
       "https://www.coursera.org/learn/generative-ai-wi...                                               Free   \n",
       "https://medium.com/geekculture/top-resoruces-to...                                            No info   \n",
       "https://www.edx.org/course/large-language-model...                                               Free   \n",
       "https://www.deeplearning.ai/courses/generative-...                                            No info   \n",
       "https://www.coursera.org/                                                                     No info   \n",
       "https://www.coursera.org/googlecloud                                                          No info   \n",
       "https://cloud.google.com/training/courses                                                     No info   \n",
       "\n",
       "                                                                                      Time  \\\n",
       "https://www.edx.org/professional-certificate/da...            3 months, 4-9 hours per week   \n",
       "https://aws.amazon.com/blogs/aws/generative-ai-...                                 No info   \n",
       "https://www.edx.org/course/large-language-model...             5 weeks, 4-8 hours per week   \n",
       "https://www.databricks.com/blog/enroll-our-new-...                             Summer 2023   \n",
       "https://stanford-cs324.github.io/winter2022/        Mondays and Wednesdays 3:15-4:45pm PST   \n",
       "https://www.coursera.org/learn/introduction-to-...             Approx. 0 hours to complete   \n",
       "https://www.kdnuggets.com/2023/03/top-free-cour...                                 No info   \n",
       "https://www.deeplearning.ai/short-courses/large...                                  1 Hour   \n",
       "https://www.cs.princeton.edu/courses/archive/fa...                                 No info   \n",
       "https://huggingface.co/course                             Approximately 6-8 hours per week   \n",
       "https://www.cloudskillsboost.google/course_temp...                              45 minutes   \n",
       "https://www.coursera.org/learn/generative-ai-wi...            Approx. 16 hours to complete   \n",
       "https://medium.com/geekculture/top-resoruces-to...                             10 min read   \n",
       "https://www.edx.org/course/large-language-model...            6 weeks, 4-10 hours per week   \n",
       "https://www.deeplearning.ai/courses/generative-...                                 No info   \n",
       "https://www.coursera.org/                                                          No info   \n",
       "https://www.coursera.org/googlecloud                                               No info   \n",
       "https://cloud.google.com/training/courses                                          No info   \n",
       "\n",
       "                                                                                Venue  \\\n",
       "https://www.edx.org/professional-certificate/da...                       Online https   \n",
       "https://aws.amazon.com/blogs/aws/generative-ai-...                       Online https   \n",
       "https://www.edx.org/course/large-language-model...                       Online https   \n",
       "https://www.databricks.com/blog/enroll-our-new-...                       Online https   \n",
       "https://stanford-cs324.github.io/winter2022/        Physical 200-002 (History Corner)   \n",
       "https://www.coursera.org/learn/introduction-to-...                       Online https   \n",
       "https://www.kdnuggets.com/2023/03/top-free-cour...                            No info   \n",
       "https://www.deeplearning.ai/short-courses/large...                       Online https   \n",
       "https://www.cs.princeton.edu/courses/archive/fa...         Physical Sherrerd Hall 101   \n",
       "https://huggingface.co/course                                            Online https   \n",
       "https://www.cloudskillsboost.google/course_temp...                       Online https   \n",
       "https://www.coursera.org/learn/generative-ai-wi...                       Online https   \n",
       "https://medium.com/geekculture/top-resoruces-to...                       Online https   \n",
       "https://www.edx.org/course/large-language-model...                       Online https   \n",
       "https://www.deeplearning.ai/courses/generative-...                       Online https   \n",
       "https://www.coursera.org/                                                Online https   \n",
       "https://www.coursera.org/googlecloud                                     Online https   \n",
       "https://cloud.google.com/training/courses                                Online https   \n",
       "\n",
       "                                                                    Company  \\\n",
       "https://www.edx.org/professional-certificate/da...               Databricks   \n",
       "https://aws.amazon.com/blogs/aws/generative-ai-...  DeepLearning.AI and AWS   \n",
       "https://www.edx.org/course/large-language-model...               Databricks   \n",
       "https://www.databricks.com/blog/enroll-our-new-...               Databricks   \n",
       "https://stanford-cs324.github.io/winter2022/            Stanford University   \n",
       "https://www.coursera.org/learn/introduction-to-...             Google Cloud   \n",
       "https://www.kdnuggets.com/2023/03/top-free-cour...                KDnuggets   \n",
       "https://www.deeplearning.ai/short-courses/large...          DeepLearning.AI   \n",
       "https://www.cs.princeton.edu/courses/archive/fa...     Princeton University   \n",
       "https://huggingface.co/course                                  Hugging Face   \n",
       "https://www.cloudskillsboost.google/course_temp...                 Qwiklabs   \n",
       "https://www.coursera.org/learn/generative-ai-wi...                 Coursera   \n",
       "https://medium.com/geekculture/top-resoruces-to...                   Medium   \n",
       "https://www.edx.org/course/large-language-model...               Databricks   \n",
       "https://www.deeplearning.ai/courses/generative-...          DeepLearning.AI   \n",
       "https://www.coursera.org/                                          Coursera   \n",
       "https://www.coursera.org/googlecloud                               Coursera   \n",
       "https://cloud.google.com/training/courses                            Google   \n",
       "\n",
       "                                                                                         info_sources  \\\n",
       "https://www.edx.org/professional-certificate/da...   https://www.edx.org/professional-certificate/...   \n",
       "https://aws.amazon.com/blogs/aws/generative-ai-...   https://aws.amazon.com/blogs/aws/generative-a...   \n",
       "https://www.edx.org/course/large-language-model...   https://www.edx.org/course/large-language-mod...   \n",
       "https://www.databricks.com/blog/enroll-our-new-...   https://www.databricks.com/blog/enroll-our-ne...   \n",
       "https://stanford-cs324.github.io/winter2022/            https://stanford-cs324.github.io/winter2022/    \n",
       "https://www.coursera.org/learn/introduction-to-...   https://www.coursera.org/learn/introduction-t...   \n",
       "https://www.kdnuggets.com/2023/03/top-free-cour...   https://www.kdnuggets.com/2023/03/top-free-co...   \n",
       "https://www.deeplearning.ai/short-courses/large...   https://www.deeplearning.ai/short-courses/lar...   \n",
       "https://www.cs.princeton.edu/courses/archive/fa...   https://www.cs.princeton.edu/courses/archive/...   \n",
       "https://huggingface.co/course                               https://huggingface.co/course/chapter1/1    \n",
       "https://www.cloudskillsboost.google/course_temp...   https://www.cloudskillsboost.google/course_te...   \n",
       "https://www.coursera.org/learn/generative-ai-wi...   https://www.coursera.org/learn/generative-ai-...   \n",
       "https://medium.com/geekculture/top-resoruces-to...   https://medium.com/geekculture/top-resoruces-...   \n",
       "https://www.edx.org/course/large-language-model...   https://www.edx.org/course/large-language-mod...   \n",
       "https://www.deeplearning.ai/courses/generative-...   https://www.deeplearning.ai/courses/generativ...   \n",
       "https://www.coursera.org/                                                  https://www.coursera.org/    \n",
       "https://www.coursera.org/googlecloud                            https://www.coursera.org/googlecloud    \n",
       "https://cloud.google.com/training/courses                  https://cloud.google.com/training/courses    \n",
       "\n",
       "                                                   Relevance  \n",
       "https://www.edx.org/professional-certificate/da...         3  \n",
       "https://aws.amazon.com/blogs/aws/generative-ai-...         3  \n",
       "https://www.edx.org/course/large-language-model...         3  \n",
       "https://www.databricks.com/blog/enroll-our-new-...         3  \n",
       "https://stanford-cs324.github.io/winter2022/               3  \n",
       "https://www.coursera.org/learn/introduction-to-...         3  \n",
       "https://www.kdnuggets.com/2023/03/top-free-cour...         3  \n",
       "https://www.deeplearning.ai/short-courses/large...         3  \n",
       "https://www.cs.princeton.edu/courses/archive/fa...         2  \n",
       "https://huggingface.co/course                              2  \n",
       "https://www.cloudskillsboost.google/course_temp...         2  \n",
       "https://www.coursera.org/learn/generative-ai-wi...         2  \n",
       "https://medium.com/geekculture/top-resoruces-to...         2  \n",
       "https://www.edx.org/course/large-language-model...         2  \n",
       "https://www.deeplearning.ai/courses/generative-...         1  \n",
       "https://www.coursera.org/                                  1  \n",
       "https://www.coursera.org/googlecloud                       0  \n",
       "https://cloud.google.com/training/courses                  0  "
      ]
     },
     "execution_count": 41,
     "metadata": {},
     "output_type": "execute_result"
    }
   ],
   "source": [
    "df"
   ]
  },
  {
   "cell_type": "markdown",
   "id": "59c1bf79-8421-449a-8332-0a8e349c96db",
   "metadata": {},
   "source": [
    "## Shut down browser"
   ]
  },
  {
   "cell_type": "code",
   "execution_count": 43,
   "id": "4110f18f-da89-4cbf-872c-259aaeb876a8",
   "metadata": {
    "tags": []
   },
   "outputs": [],
   "source": [
    "driver.quit()\n",
    "del driver"
   ]
  },
  {
   "cell_type": "code",
   "execution_count": null,
   "id": "72b0c850-320f-4c42-ab94-4463fb7835d6",
   "metadata": {},
   "outputs": [],
   "source": []
  }
 ],
 "metadata": {
  "kernelspec": {
   "display_name": "Python 3 (ipykernel)",
   "language": "python",
   "name": "python3"
  },
  "language_info": {
   "codemirror_mode": {
    "name": "ipython",
    "version": 3
   },
   "file_extension": ".py",
   "mimetype": "text/x-python",
   "name": "python",
   "nbconvert_exporter": "python",
   "pygments_lexer": "ipython3",
   "version": "3.11.3"
  }
 },
 "nbformat": 4,
 "nbformat_minor": 5
}
