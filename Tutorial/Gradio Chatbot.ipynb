{
 "cells": [
  {
   "cell_type": "markdown",
   "id": "3a3bd0fb-7d87-4992-beb0-f622d61c467c",
   "metadata": {},
   "source": [
    "# Gradio Chatbot\n",
    "\n",
    "- Adapted from https://learn.deeplearning.ai/huggingface-gradio/lesson/6/chat-with-any-llm\n",
    "- Adapted by John Tan Chong Min, 17 Aug 2023\n",
    "- Adapted to use OpenAI's LLM"
   ]
  },
  {
   "cell_type": "code",
   "execution_count": 5,
   "id": "5e2fe290-b624-48ad-9af7-0e3c141be3e6",
   "metadata": {
    "tags": []
   },
   "outputs": [],
   "source": [
    "import os\n",
    "import openai\n",
    "import json\n",
    "import re\n",
    "\n",
    "#API Keys\n",
    "os.environ['OPENAI_API_TOKEN'] = 'your_api_key_here'\n",
    "openai.api_key = os.environ['OPENAI_API_TOKEN']"
   ]
  },
  {
   "cell_type": "code",
   "execution_count": 7,
   "id": "e0e581d0-449b-40fc-a522-47a2748e2f89",
   "metadata": {
    "tags": []
   },
   "outputs": [],
   "source": [
    "def chat(system_prompt, user_prompt, model = 'gpt-3.5-turbo', temperature = 0, verbose = False):\n",
    "    ''' Normal call of OpenAI API '''\n",
    "    response = openai.ChatCompletion.create(\n",
    "    temperature = temperature,\n",
    "    model=model,\n",
    "    messages=[\n",
    "        {\"role\": \"system\", \"content\": system_prompt},\n",
    "        {\"role\": \"user\", \"content\": user_prompt}\n",
    "    ])\n",
    "    \n",
    "    res = response['choices'][0]['message']['content']\n",
    "    \n",
    "    if verbose:\n",
    "        print('System prompt:', system_prompt)\n",
    "        print('User prompt:', user_prompt)\n",
    "        print('GPT response:', res)\n",
    "        \n",
    "    return res"
   ]
  },
  {
   "cell_type": "code",
   "execution_count": 8,
   "id": "1e2a6de2-53df-44a3-8d60-e74ade338d83",
   "metadata": {
    "tags": []
   },
   "outputs": [
    {
     "data": {
      "text/plain": [
       "'The number 4 is even.'"
      ]
     },
     "execution_count": 8,
     "metadata": {},
     "output_type": "execute_result"
    }
   ],
   "source": [
    "chat(system_prompt='You are to classify if a number is even or odd', user_prompt = '4')"
   ]
  },
  {
   "cell_type": "code",
   "execution_count": 9,
   "id": "8dd0073f-b2a3-4acb-a8f6-fb198bb507a4",
   "metadata": {
    "tags": []
   },
   "outputs": [],
   "source": [
    "import os\n",
    "import io\n",
    "import IPython.display\n",
    "from PIL import Image\n",
    "import base64 \n",
    "import requests, json\n",
    "import gradio as gr\n",
    "requests.adapters.DEFAULT_TIMEOUT = 60"
   ]
  },
  {
   "cell_type": "markdown",
   "id": "9d7b468a-1da6-4e9c-88c3-1bb88c61ea59",
   "metadata": {},
   "source": [
    "## Building an app to chat!\n",
    "\n",
    "- this just returns a random message"
   ]
  },
  {
   "cell_type": "code",
   "execution_count": 10,
   "id": "b8c1aaeb-c119-4c36-a7ef-8f394f4f0508",
   "metadata": {
    "tags": []
   },
   "outputs": [
    {
     "name": "stdout",
     "output_type": "stream",
     "text": [
      "Running on local URL:  http://127.0.0.1:7860\n",
      "\n",
      "To create a public link, set `share=True` in `launch()`.\n"
     ]
    },
    {
     "data": {
      "text/html": [
       "<div><iframe src=\"http://127.0.0.1:7860/\" width=\"100%\" height=\"500\" allow=\"autoplay; camera; microphone; clipboard-read; clipboard-write;\" frameborder=\"0\" allowfullscreen></iframe></div>"
      ],
      "text/plain": [
       "<IPython.core.display.HTML object>"
      ]
     },
     "metadata": {},
     "output_type": "display_data"
    },
    {
     "data": {
      "text/plain": []
     },
     "execution_count": 10,
     "metadata": {},
     "output_type": "execute_result"
    }
   ],
   "source": [
    "import random\n",
    "\n",
    "def respond(message, chat_history):\n",
    "        #No LLM here, just respond with a random pre-made message\n",
    "        bot_message = random.choice([\"Tell me more about it\", \n",
    "                                     \"Cool, but I'm not interested\", \n",
    "                                     \"Hmmmm, ok then\"]) \n",
    "        chat_history.append((message, bot_message))\n",
    "        return \"\", chat_history\n",
    "\n",
    "with gr.Blocks() as demo:\n",
    "    chatbot = gr.Chatbot(height=240) #just to fit the notebook\n",
    "    msg = gr.Textbox(label=\"Prompt\")\n",
    "    btn = gr.Button(\"Submit\")\n",
    "    clear = gr.ClearButton(components=[msg, chatbot], value=\"Clear console\")\n",
    "\n",
    "    btn.click(respond, inputs=[msg, chatbot], outputs=[msg, chatbot])\n",
    "    msg.submit(respond, inputs=[msg, chatbot], outputs=[msg, chatbot]) #Press enter to submit\n",
    "gr.close_all()\n",
    "demo.launch()"
   ]
  },
  {
   "cell_type": "markdown",
   "id": "d396fbde-7b93-4af2-aa0a-49e768dca31e",
   "metadata": {
    "tags": []
   },
   "source": [
    "## ChatGPT Chatbot\n",
    "- Now this returns the entire chat message\n",
    "- Uses only max_convo_length of 10 past interations to condition the output generation"
   ]
  },
  {
   "cell_type": "code",
   "execution_count": 11,
   "id": "b58c958b-c3ec-4e38-bb3a-ebfc215cc674",
   "metadata": {
    "tags": []
   },
   "outputs": [
    {
     "name": "stdout",
     "output_type": "stream",
     "text": [
      "Running on local URL:  http://127.0.0.1:7861\n",
      "\n",
      "To create a public link, set `share=True` in `launch()`.\n"
     ]
    },
    {
     "data": {
      "text/html": [
       "<div><iframe src=\"http://127.0.0.1:7861/\" width=\"100%\" height=\"500\" allow=\"autoplay; camera; microphone; clipboard-read; clipboard-write;\" frameborder=\"0\" allowfullscreen></iframe></div>"
      ],
      "text/plain": [
       "<IPython.core.display.HTML object>"
      ]
     },
     "metadata": {},
     "output_type": "display_data"
    },
    {
     "data": {
      "text/plain": []
     },
     "execution_count": 11,
     "metadata": {},
     "output_type": "execute_result"
    },
    {
     "name": "stdout",
     "output_type": "stream",
     "text": [
      "Prompt + Context:\n",
      "\n",
      "User: What is 5+5?\n",
      "Assistant:\n",
      "Prompt + Context:\n",
      "\n",
      "User: What is 5+5?\n",
      "Assistant: The sum of 5 and 5 is 10.\n",
      "User: Give me the number divided by 2\n",
      "Assistant:\n",
      "Prompt + Context:\n",
      "\n",
      "User: What is 5+5?\n",
      "Assistant: The sum of 5 and 5 is 10.\n",
      "User: Give me the number divided by 2\n",
      "Assistant: The number 10 divided by 2 is 5.\n",
      "User: Summarise the conversation so far.\n",
      "Assistant:\n"
     ]
    }
   ],
   "source": [
    "def format_chat_prompt(message, chat_history, max_convo_length):\n",
    "    prompt = \"\"\n",
    "    for turn in chat_history[-max_convo_length:]:\n",
    "        user_message, bot_message = turn\n",
    "        prompt = f\"{prompt}\\nUser: {user_message}\\nAssistant: {bot_message}\"\n",
    "    prompt = f\"{prompt}\\nUser: {message}\\nAssistant:\"\n",
    "    return prompt\n",
    "\n",
    "def respond(message, chat_history, max_convo_length = 10):\n",
    "        formatted_prompt = format_chat_prompt(message, chat_history, max_convo_length)\n",
    "        print('Prompt + Context:')\n",
    "        print(formatted_prompt)\n",
    "        bot_message = chat(system_prompt = 'You are a friendly chatbot. Generate the output for only the Assistant.',\n",
    "                           user_prompt = formatted_prompt)\n",
    "        chat_history.append((message, bot_message))\n",
    "        return \"\", chat_history\n",
    "\n",
    "with gr.Blocks() as demo:\n",
    "    chatbot = gr.Chatbot(height=300) #just to fit the notebook\n",
    "    msg = gr.Textbox(label=\"Prompt\")\n",
    "    btn = gr.Button(\"Submit\")\n",
    "    clear = gr.ClearButton(components=[msg, chatbot], value=\"Clear console\")\n",
    "\n",
    "    btn.click(respond, inputs=[msg, chatbot], outputs=[msg, chatbot])\n",
    "    msg.submit(respond, inputs=[msg, chatbot], outputs=[msg, chatbot]) #Press enter to submit\n",
    "gr.close_all()\n",
    "demo.launch()"
   ]
  },
  {
   "cell_type": "markdown",
   "id": "a27cfb0f-4d90-4883-927f-f871fdeb4570",
   "metadata": {},
   "source": [
    "## Interactive Chatbot\n",
    "- Asks questions related to the context\n",
    "- Antibiotic treatment failure of uncomplicated urinary tract infections in primary care\n",
    "- Sky Wei Chee Koh, corresponding author, Tracy Si Min Ng, Victor Weng Keong Loh, Jun Cong Goh, Si Hui Low, Wei Zhi Tan, Hung Chew Wong, Pradeep Durai, Louisa Jin Sun, Doris Young, Paul Anantharajah Tambyah\n",
    "- https://www.ncbi.nlm.nih.gov/pmc/articles/PMC10394943/"
   ]
  },
  {
   "cell_type": "code",
   "execution_count": 12,
   "id": "fd145f48-2f0a-478d-8367-a01e63be30cb",
   "metadata": {
    "tags": []
   },
   "outputs": [],
   "source": [
    "context = '''Background\n",
    "Higher resistance rates of > 20% have been noted in Enterobacteriaceae urinary isolates towards ciprofloxacin and co-trimoxazole (C + C) in Singapore, compared with amoxicillin-clavulanate and nitrofurantoin (AC + N). This study examined if treatment failure varied between different antibiotics, given different resistant rates, for uncomplicated urinary tract infections (UTIs) managed in primary care. We also aimed to identify gaps for improvement in diagnosis, investigations, and management.\n",
    "\n",
    "Methods\n",
    "A retrospective cohort study was conducted from 2019 to 2021 on female patients aged 18–50 with uncomplicated UTIs at 6 primary care clinics in Singapore. ORENUC classification was used to exclude complicated UTIs. Patients with uncomplicated UTIs empirically treated with amoxicillin-clavulanate, nitrofurantoin, ciprofloxacin or co-trimoxazole were followed-up for 28 days. Treatment failure was defined as re-attendance for symptoms and antibiotic re-prescription, or hospitalisation for UTI complications. After 2:1 propensity score matching in each group, modified Poisson regression and Cox proportional hazard regression accounting for matched data were used to determine risk and time to treatment failure.\n",
    "\n",
    "Results\n",
    "3194 of 4253 (75.1%) UTIs seen were uncomplicated, of which only 26% were diagnosed clinically. Urine cultures were conducted for 1094 (34.3%) uncomplicated UTIs, of which only 410 (37.5%) had bacterial growth. The most common organism found to cause uncomplicated UTIs was Escherichia coli (64.6%), with 92.6% and 99.4% of isolates sensitive to amoxicillin-clavulanate and nitrofurantoin respectively. Treatment failure occurred in 146 patients (4.57%). Among 1894 patients treated with AC + N matched to 947 patients treated with C + C, patients treated with C + C were 50% more likely to fail treatment (RR 1.49, 95% CI 1.10–2.01), with significantly higher risk of experiencing shorter time to failure (HR 1.61, 95% CI 1.12–2.33), compared to patients treated with AC + N.\n",
    "\n",
    "Conclusion\n",
    "Treatment failure rate was lower for antibiotics with lower reported resistance rates (AC + N). We recommend treating uncomplicated UTIs in Singapore with amoxicillin-clavulanate or nitrofurantoin, based on current local antibiograms. Diagnosis, investigations and management of UTIs remained sub-optimal. Future studies should be based on updating antibiograms, highlighting its importance in guideline development.'''"
   ]
  },
  {
   "cell_type": "code",
   "execution_count": 14,
   "id": "d7b6f14c-4c8c-4946-8672-ae050bbd65f4",
   "metadata": {
    "tags": []
   },
   "outputs": [
    {
     "name": "stdout",
     "output_type": "stream",
     "text": [
      "Running on local URL:  http://127.0.0.1:7863\n",
      "Running on public URL: https://b6aaf218684aa07eff.gradio.live\n",
      "\n",
      "This share link expires in 72 hours. For free permanent hosting and GPU upgrades, run `gradio deploy` from Terminal to deploy to Spaces (https://huggingface.co/spaces)\n"
     ]
    },
    {
     "data": {
      "text/html": [
       "<div><iframe src=\"https://b6aaf218684aa07eff.gradio.live\" width=\"100%\" height=\"500\" allow=\"autoplay; camera; microphone; clipboard-read; clipboard-write;\" frameborder=\"0\" allowfullscreen></iframe></div>"
      ],
      "text/plain": [
       "<IPython.core.display.HTML object>"
      ]
     },
     "metadata": {},
     "output_type": "display_data"
    },
    {
     "data": {
      "text/plain": []
     },
     "execution_count": 14,
     "metadata": {},
     "output_type": "execute_result"
    },
    {
     "name": "stdout",
     "output_type": "stream",
     "text": [
      "Prompt + Context:\n",
      "\n",
      "User: What is the key finding of the paper?\n",
      "Assistant:\n"
     ]
    }
   ],
   "source": [
    "def format_chat_prompt(message, chat_history, max_convo_length):\n",
    "    prompt = \"\"\n",
    "    for turn in chat_history[-max_convo_length:]:\n",
    "        user_message, bot_message = turn\n",
    "        prompt = f\"{prompt}\\nUser: {user_message}\\nAssistant: {bot_message}\"\n",
    "    prompt = f\"{prompt}\\nUser: {message}\\nAssistant:\"\n",
    "    return prompt\n",
    "\n",
    "def respond(message, chat_history, max_convo_length = 10):\n",
    "        formatted_prompt = format_chat_prompt(message, chat_history, max_convo_length)\n",
    "        print('Prompt + Context:')\n",
    "        print(formatted_prompt)\n",
    "        bot_message = chat(system_prompt = f'''You are a friendly chatbot. Generate the output for only the Assistant. \n",
    "Only answer based on the context. If unsure, output \"I don't know\". Context: {context}\"''',\n",
    "                           user_prompt = formatted_prompt)\n",
    "        chat_history.append((message, bot_message))\n",
    "        return \"\", chat_history\n",
    "\n",
    "with gr.Blocks() as demo:\n",
    "    chatbot = gr.Chatbot(height=300) #just to fit the notebook\n",
    "    msg = gr.Textbox(label=\"Prompt\")\n",
    "    btn = gr.Button(\"Submit\")\n",
    "    clear = gr.ClearButton(components=[msg, chatbot], value=\"Clear console\")\n",
    "\n",
    "    btn.click(respond, inputs=[msg, chatbot], outputs=[msg, chatbot])\n",
    "    msg.submit(respond, inputs=[msg, chatbot], outputs=[msg, chatbot]) #Press enter to submit\n",
    "gr.close_all()\n",
    "demo.launch(share=True)"
   ]
  },
  {
   "cell_type": "code",
   "execution_count": null,
   "id": "476f90c8-3911-4151-a670-2f0c750eb032",
   "metadata": {},
   "outputs": [],
   "source": []
  }
 ],
 "metadata": {
  "kernelspec": {
   "display_name": "Python 3 (ipykernel)",
   "language": "python",
   "name": "python3"
  },
  "language_info": {
   "codemirror_mode": {
    "name": "ipython",
    "version": 3
   },
   "file_extension": ".py",
   "mimetype": "text/x-python",
   "name": "python",
   "nbconvert_exporter": "python",
   "pygments_lexer": "ipython3",
   "version": "3.11.3"
  }
 },
 "nbformat": 4,
 "nbformat_minor": 5
}
