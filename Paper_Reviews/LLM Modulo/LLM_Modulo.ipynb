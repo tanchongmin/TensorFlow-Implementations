{
 "cells": [
  {
   "cell_type": "markdown",
   "id": "e5cf64df-87d2-4a21-852d-8a57cc690108",
   "metadata": {},
   "source": [
    "# LLM-Modulo\n",
    "- Adding verifiers for more robust generation of plans"
   ]
  },
  {
   "cell_type": "code",
   "execution_count": 1,
   "id": "ddaf682d-cf23-4f22-846b-b0c02c051c3e",
   "metadata": {
    "tags": []
   },
   "outputs": [],
   "source": [
    "from taskgen import *"
   ]
  },
  {
   "cell_type": "code",
   "execution_count": 2,
   "id": "d655bf48-d54e-4dac-9540-5dd8e6dea298",
   "metadata": {
    "tags": []
   },
   "outputs": [],
   "source": [
    "import os\n",
    "os.environ['OPENAI_API_KEY'] = '<YOUR API KEY HERE>'"
   ]
  },
  {
   "cell_type": "code",
   "execution_count": 4,
   "id": "bd47badf-4476-4e8b-aaf2-45de2c0e52d0",
   "metadata": {
    "tags": []
   },
   "outputs": [],
   "source": [
    "def llm(system_prompt: str, user_prompt: str) -> str:\n",
    "    ''' Here, we use OpenAI for illustration, you can change it to your own LLM '''\n",
    "    # ensure your LLM imports are all within this function\n",
    "    from openai import OpenAI\n",
    "    \n",
    "    # define your own LLM here\n",
    "    client = OpenAI()\n",
    "    response = client.chat.completions.create(\n",
    "        model='gpt-4o-mini',\n",
    "        temperature = 0,\n",
    "        messages=[\n",
    "            {\"role\": \"system\", \"content\": system_prompt},\n",
    "            {\"role\": \"user\", \"content\": user_prompt}\n",
    "        ]\n",
    "    )\n",
    "    return response.choices[0].message.content"
   ]
  },
  {
   "cell_type": "markdown",
   "id": "34b35787-746f-4e1f-be1e-29c930ec2960",
   "metadata": {},
   "source": [
    "# Self-critique / reflection\n",
    "- Does not work too well if LLM does not have the right abstraction space"
   ]
  },
  {
   "cell_type": "code",
   "execution_count": 13,
   "id": "229d4996-324e-4edb-a9d4-4456cd6bb8b0",
   "metadata": {
    "tags": []
   },
   "outputs": [],
   "source": [
    "res = strict_json(system_prompt = 'Count the number of r in strawberry',\n",
    "            user_prompt = '',\n",
    "            output_format = {'Explanation': 'type: str',\n",
    "                             'Number of r': 'type: int'},\n",
    "            llm = llm)"
   ]
  },
  {
   "cell_type": "code",
   "execution_count": 14,
   "id": "ba90c281-2b8b-4119-92fe-7f17025e4153",
   "metadata": {
    "tags": []
   },
   "outputs": [
    {
     "data": {
      "text/plain": [
       "{'Explanation': 'The word \"strawberry\" contains the letter \"r\" twice.',\n",
       " 'Number of r': 2}"
      ]
     },
     "execution_count": 14,
     "metadata": {},
     "output_type": "execute_result"
    }
   ],
   "source": [
    "res"
   ]
  },
  {
   "cell_type": "code",
   "execution_count": 15,
   "id": "81639981-9cc2-4257-aa02-e196cb2de458",
   "metadata": {
    "tags": []
   },
   "outputs": [],
   "source": [
    "res2 = strict_json(system_prompt = 'Critique the solution to \"Count the number of r in strawberry\"',\n",
    "            user_prompt = res,\n",
    "            output_format = {'Critique': 'type: str',\n",
    "                             'Modified answer': 'type: str',\n",
    "                             'Number of r': 'type: int'},\n",
    "            llm = llm)"
   ]
  },
  {
   "cell_type": "code",
   "execution_count": 16,
   "id": "c6d9c013-b22d-4a0c-8688-75691797d0fb",
   "metadata": {
    "tags": []
   },
   "outputs": [
    {
     "data": {
      "text/plain": [
       "{'Critique': 'The explanation is correct, but it could be more concise and directly answer the question without additional wording.',\n",
       " 'Modified answer': 'The word \"strawberry\" contains the letter \"r\" 2 times.',\n",
       " 'Number of r': 2}"
      ]
     },
     "execution_count": 16,
     "metadata": {},
     "output_type": "execute_result"
    }
   ],
   "source": [
    "res2"
   ]
  },
  {
   "cell_type": "markdown",
   "id": "80841ba9-0400-494a-a7a6-66f1d9ef03ff",
   "metadata": {},
   "source": [
    "# Critic to count letters"
   ]
  },
  {
   "cell_type": "code",
   "execution_count": 37,
   "id": "5841ad96-b9c0-41ba-9abc-526ac9fc5555",
   "metadata": {
    "tags": []
   },
   "outputs": [],
   "source": [
    "res = strict_json(system_prompt = 'Count the number of r in strawberry.',\n",
    "            user_prompt = '',\n",
    "            output_format = {'Explanation': 'type: str',\n",
    "                             'Number of r': 'type: int'},\n",
    "            llm = llm)"
   ]
  },
  {
   "cell_type": "code",
   "execution_count": 38,
   "id": "41d95b56-c7e0-4cef-ac0e-b116e311564a",
   "metadata": {
    "tags": []
   },
   "outputs": [
    {
     "data": {
      "text/plain": [
       "{'Explanation': 'The word \"strawberry\" contains the letter \"r\" twice.',\n",
       " 'Number of r': 2}"
      ]
     },
     "execution_count": 38,
     "metadata": {},
     "output_type": "execute_result"
    }
   ],
   "source": [
    "res"
   ]
  },
  {
   "cell_type": "code",
   "execution_count": 63,
   "id": "99fbdfcf-3738-48a8-94cb-efcea7d80e7f",
   "metadata": {
    "tags": []
   },
   "outputs": [],
   "source": [
    "count = \"strawberry\".count('r')"
   ]
  },
  {
   "cell_type": "code",
   "execution_count": 64,
   "id": "4ccb7e89-4988-4406-a3c7-fafeee0c9d0d",
   "metadata": {
    "tags": []
   },
   "outputs": [],
   "source": [
    "res2 = strict_json(system_prompt = f'Critique the solution to \"Count the number of r in strawberry\". Count of r from code: {count}',\n",
    "            user_prompt = res,\n",
    "            output_format = {'Critique': 'type: str',\n",
    "                             'Modified answer': 'type: str',\n",
    "                             'Number of r': 'type: int'},\n",
    "            llm = llm)"
   ]
  },
  {
   "cell_type": "code",
   "execution_count": 65,
   "id": "722dcb6e-7a5a-4611-bcb7-58256509692c",
   "metadata": {
    "tags": []
   },
   "outputs": [
    {
     "data": {
      "text/plain": [
       "{'Critique': 'The count of r is incorrect; the letter \"r\" appears three times in \"strawberry\".',\n",
       " 'Modified answer': 'The word \"strawberry\" contains the letter \"r\" three times.',\n",
       " 'Number of r': 3}"
      ]
     },
     "execution_count": 65,
     "metadata": {},
     "output_type": "execute_result"
    }
   ],
   "source": [
    "res2"
   ]
  },
  {
   "cell_type": "markdown",
   "id": "ddf88540-29f6-48be-9969-b6471666d41c",
   "metadata": {},
   "source": [
    "# Tool use"
   ]
  },
  {
   "cell_type": "code",
   "execution_count": 22,
   "id": "3c328213-9028-4be1-895a-96c0b1d187a6",
   "metadata": {
    "tags": []
   },
   "outputs": [],
   "source": [
    "def count_letters(word: str, letter: str) -> str:\n",
    "    '''Counts letter in the word'''\n",
    "    return word.count(letter)"
   ]
  },
  {
   "cell_type": "code",
   "execution_count": 23,
   "id": "91385738-87ff-4ef2-9fb8-bbd133fae2c0",
   "metadata": {
    "tags": []
   },
   "outputs": [
    {
     "data": {
      "text/plain": [
       "3"
      ]
     },
     "execution_count": 23,
     "metadata": {},
     "output_type": "execute_result"
    }
   ],
   "source": [
    "count_letters('strawberry', 'r')"
   ]
  },
  {
   "cell_type": "code",
   "execution_count": 24,
   "id": "21d4a8d6-3396-4f82-9461-875a674da6c1",
   "metadata": {
    "tags": []
   },
   "outputs": [],
   "source": [
    "agent = Agent('Generalist Agent', 'Does anything', llm = llm).assign_functions(count_letters)"
   ]
  },
  {
   "cell_type": "code",
   "execution_count": 25,
   "id": "6a67fc9f-a967-45d8-9fd6-693ad9e33a37",
   "metadata": {
    "tags": []
   },
   "outputs": [
    {
     "name": "stdout",
     "output_type": "stream",
     "text": [
      "\u001b[1m\u001b[30mObservation: No subtasks have been completed yet for the task of counting the number of r in strawberry.\u001b[0m\n",
      "\u001b[1m\u001b[32mThoughts: To complete the task, I need to count the occurrences of the letter \"r\" in the word \"strawberry\". This can be done using the count_letters function.\u001b[0m\n",
      "\u001b[1m\u001b[34mSubtask identified: Count the occurrences of the letter \"r\" in the word \"strawberry\" using the count_letters function.\u001b[0m\n",
      "Calling function count_letters with parameters {'letter': 'r', 'word': 'strawberry'}\n",
      "> {'output_1': 3}\n",
      "\n",
      "\u001b[1m\u001b[30mObservation: The task to count the number of occurrences of the letter \"r\" in the word \"strawberry\" has been completed, resulting in a count of 3.\u001b[0m\n",
      "\u001b[1m\u001b[32mThoughts: Since the counting task is complete and the result is available, the next step is to finalize the task and present the output to the user.\u001b[0m\n",
      "\u001b[1m\u001b[34mSubtask identified: End Task\u001b[0m\n",
      "Task completed successfully!\n",
      "\n"
     ]
    },
    {
     "data": {
      "text/plain": [
       "[{'output_1': 3}]"
      ]
     },
     "execution_count": 25,
     "metadata": {},
     "output_type": "execute_result"
    }
   ],
   "source": [
    "agent.run('Count the number of r in strawberry')"
   ]
  },
  {
   "cell_type": "code",
   "execution_count": 26,
   "id": "4bafe250-bb31-43a3-bcf9-97ff9e861772",
   "metadata": {
    "tags": []
   },
   "outputs": [
    {
     "name": "stdout",
     "output_type": "stream",
     "text": [
      "The assigned task was to count the number of occurrences of the letter \"r\" in the word \"strawberry\". According to the completed subtask, the output indicates that there are 3 instances of the letter \"r\" in the word \"strawberry\". Therefore, the final count of the letter \"r\" in \"strawberry\" is 3.\n"
     ]
    },
    {
     "data": {
      "text/plain": [
       "'The assigned task was to count the number of occurrences of the letter \"r\" in the word \"strawberry\". According to the completed subtask, the output indicates that there are 3 instances of the letter \"r\" in the word \"strawberry\". Therefore, the final count of the letter \"r\" in \"strawberry\" is 3.'"
      ]
     },
     "execution_count": 26,
     "metadata": {},
     "output_type": "execute_result"
    }
   ],
   "source": [
    "agent.reply_user()"
   ]
  }
 ],
 "metadata": {
  "kernelspec": {
   "display_name": "Python 3 (ipykernel)",
   "language": "python",
   "name": "python3"
  },
  "language_info": {
   "codemirror_mode": {
    "name": "ipython",
    "version": 3
   },
   "file_extension": ".py",
   "mimetype": "text/x-python",
   "name": "python",
   "nbconvert_exporter": "python",
   "pygments_lexer": "ipython3",
   "version": "3.11.3"
  }
 },
 "nbformat": 4,
 "nbformat_minor": 5
}
